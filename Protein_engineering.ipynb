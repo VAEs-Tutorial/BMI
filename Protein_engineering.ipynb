{
  "nbformat": 4,
  "nbformat_minor": 0,
  "metadata": {
    "colab": {
      "name": "Protein engineering.ipynb",
      "provenance": [],
      "authorship_tag": "ABX9TyP8avGTM+Xe4/ChrGjc9CbI",
      "include_colab_link": true
    },
    "kernelspec": {
      "name": "python3",
      "display_name": "Python 3"
    },
    "accelerator": "GPU"
  },
  "cells": [
    {
      "cell_type": "markdown",
      "metadata": {
        "id": "view-in-github",
        "colab_type": "text"
      },
      "source": [
        "<a href=\"https://colab.research.google.com/github/VAEs-Tutorial/BMI/blob/master/Protein_engineering.ipynb\" target=\"_parent\"><img src=\"https://colab.research.google.com/assets/colab-badge.svg\" alt=\"Open In Colab\"/></a>"
      ]
    },
    {
      "cell_type": "code",
      "metadata": {
        "id": "ivQ-rVCeDMXG",
        "colab_type": "code",
        "colab": {
          "base_uri": "https://localhost:8080/",
          "height": 87
        },
        "outputId": "ca65c64f-40b4-4330-9bd7-9318eaad7a07"
      },
      "source": [
        "!git clone https://github.com/samsinai/VAE_protein_function.git"
      ],
      "execution_count": 5,
      "outputs": [
        {
          "output_type": "stream",
          "text": [
            "Cloning into 'VAE_protein_function'...\n",
            "remote: Enumerating objects: 50, done.\u001b[K\n",
            "remote: Total 50 (delta 0), reused 0 (delta 0), pack-reused 50\u001b[K\n",
            "Unpacking objects: 100% (50/50), done.\n"
          ],
          "name": "stdout"
        }
      ]
    },
    {
      "cell_type": "code",
      "metadata": {
        "id": "rqTUqHKZDULV",
        "colab_type": "code",
        "colab": {}
      },
      "source": [
        "from __future__ import print_function\n",
        "%matplotlib inline\n",
        "import matplotlib.pyplot as plt\n",
        "import numpy as np\n",
        "import pandas as pd\n",
        "import math,random,re\n",
        "import time"
      ],
      "execution_count": 1,
      "outputs": []
    },
    {
      "cell_type": "code",
      "metadata": {
        "id": "GHUKhfYxDbfL",
        "colab_type": "code",
        "colab": {
          "base_uri": "https://localhost:8080/",
          "height": 35
        },
        "outputId": "a2152020-1460-4707-9e48-e4bf3ed7ea0b"
      },
      "source": [
        "#Machine learning/Stats imports \n",
        "from scipy.stats import norm\n",
        "from scipy.stats import spearmanr,pearsonr\n",
        "from sklearn.preprocessing import normalize\n",
        "import tensorflow as tf\n",
        "import keras\n",
        "from keras.layers import Input, Dense\n",
        "from keras.models import Model\n",
        "from keras import regularizers\n",
        "from keras.layers import LSTM, RepeatVector\n",
        "from keras.layers import Input, Dense, Lambda, Dropout,Activation, TimeDistributed\n",
        "from keras import backend as K\n",
        "from keras import objectives\n",
        "from keras.callbacks import EarlyStopping\n",
        "from keras.layers.normalization import BatchNormalization\n",
        "from keras import regularizers"
      ],
      "execution_count": 2,
      "outputs": [
        {
          "output_type": "stream",
          "text": [
            "Using TensorFlow backend.\n"
          ],
          "name": "stderr"
        }
      ]
    },
    {
      "cell_type": "code",
      "metadata": {
        "id": "SwExm1ZKDeng",
        "colab_type": "code",
        "colab": {}
      },
      "source": [
        "#Invariants\n",
        "ORDER_KEY=\"XILVAGMFYWEDQNHCRKSTPBZ-\"[::-1]\n",
        "ORDER_LIST=list(ORDER_KEY)"
      ],
      "execution_count": 3,
      "outputs": []
    },
    {
      "cell_type": "code",
      "metadata": {
        "id": "nHTAfpl-Dh7h",
        "colab_type": "code",
        "colab": {}
      },
      "source": [
        "\n",
        "%reload_ext autoreload\n",
        "%autoreload 1\n",
        "from VAE_protein_function.helper_tools import *\n",
        "from VAE_protein_function.helper_tools_for_plotting import *"
      ],
      "execution_count": 6,
      "outputs": []
    },
    {
      "cell_type": "code",
      "metadata": {
        "id": "kGBsoKTFD2oM",
        "colab_type": "code",
        "colab": {
          "base_uri": "https://localhost:8080/",
          "height": 219
        },
        "outputId": "41c943b6-57e2-4347-94cb-2369659cf45f"
      },
      "source": [
        "data=pdataframe_from_alignment_file(\"/content/VAE_protein_function/PABP_YEAST_hmmerbit_plmc_n5_m30_f50_t0.2_r115-210_id100_b48.a2m\",50000)\n",
        "print (\"number of data points: \",len(data))\n",
        "data_set_size=len(data)\n",
        "data.head()"
      ],
      "execution_count": 8,
      "outputs": [
        {
          "output_type": "stream",
          "text": [
            "number of data points:  50000\n"
          ],
          "name": "stdout"
        },
        {
          "output_type": "execute_result",
          "data": {
            "text/html": [
              "<div>\n",
              "<style scoped>\n",
              "    .dataframe tbody tr th:only-of-type {\n",
              "        vertical-align: middle;\n",
              "    }\n",
              "\n",
              "    .dataframe tbody tr th {\n",
              "        vertical-align: top;\n",
              "    }\n",
              "\n",
              "    .dataframe thead th {\n",
              "        text-align: right;\n",
              "    }\n",
              "</style>\n",
              "<table border=\"1\" class=\"dataframe\">\n",
              "  <thead>\n",
              "    <tr style=\"text-align: right;\">\n",
              "      <th></th>\n",
              "      <th>name</th>\n",
              "      <th>sequence</th>\n",
              "    </tr>\n",
              "  </thead>\n",
              "  <tbody>\n",
              "    <tr>\n",
              "      <th>0</th>\n",
              "      <td>PABP_YEAST/115-210</td>\n",
              "      <td>qrdpslrkKGSGNIFIKNLHPDIDNKALYDTFSVFGDILSSKIATD...</td>\n",
              "    </tr>\n",
              "    <tr>\n",
              "      <th>1</th>\n",
              "      <td>ur|UPI0004E53ABB|UniRef100_UPI0004E53ABB/203-294</td>\n",
              "      <td>..epangsPKFFNVYVKNLPEKYTDDDLKSEFEAFGEITSAVVVKD...</td>\n",
              "    </tr>\n",
              "    <tr>\n",
              "      <th>2</th>\n",
              "      <td>ur|UPI0004E53ABB|UniRef100_UPI0004E53ABB/534-625</td>\n",
              "      <td>..epangsPKFFNVYVKNLPEKYTDDDLKSEFEASGEITSAVVVKD...</td>\n",
              "    </tr>\n",
              "    <tr>\n",
              "      <th>3</th>\n",
              "      <td>ur|UPI0004E53ABB|UniRef100_UPI0004E53ABB/312-398</td>\n",
              "      <td>........IRGLNLYLKNLDDTIDDERLKELFRPFGTIISCKVMVD...</td>\n",
              "    </tr>\n",
              "    <tr>\n",
              "      <th>4</th>\n",
              "      <td>ur|UPI0004E53ABB|UniRef100_UPI0004E53ABB/33-112</td>\n",
              "      <td>........---ASLYVGDLDLSVTEGQLFDLFSQIGPVASVRVCRD...</td>\n",
              "    </tr>\n",
              "  </tbody>\n",
              "</table>\n",
              "</div>"
            ],
            "text/plain": [
              "                                               name                                           sequence\n",
              "0                                PABP_YEAST/115-210  qrdpslrkKGSGNIFIKNLHPDIDNKALYDTFSVFGDILSSKIATD...\n",
              "1  ur|UPI0004E53ABB|UniRef100_UPI0004E53ABB/203-294  ..epangsPKFFNVYVKNLPEKYTDDDLKSEFEAFGEITSAVVVKD...\n",
              "2  ur|UPI0004E53ABB|UniRef100_UPI0004E53ABB/534-625  ..epangsPKFFNVYVKNLPEKYTDDDLKSEFEASGEITSAVVVKD...\n",
              "3  ur|UPI0004E53ABB|UniRef100_UPI0004E53ABB/312-398  ........IRGLNLYLKNLDDTIDDERLKELFRPFGTIISCKVMVD...\n",
              "4   ur|UPI0004E53ABB|UniRef100_UPI0004E53ABB/33-112  ........---ASLYVGDLDLSVTEGQLFDLFSQIGPVASVRVCRD..."
            ]
          },
          "metadata": {
            "tags": []
          },
          "execution_count": 8
        }
      ]
    },
    {
      "cell_type": "code",
      "metadata": {
        "id": "9VrD8JsEEc5R",
        "colab_type": "code",
        "colab": {
          "base_uri": "https://localhost:8080/",
          "height": 407
        },
        "outputId": "c49a5043-9fe7-4550-a603-ec734eb17d14"
      },
      "source": [
        "indices=index_of_non_lower_case_dot(data.iloc[0][\"sequence\"])\n",
        "data[\"seq\"]=list(map(prune_seq,data[\"sequence\"]))\n",
        "data.head()\n",
        "PRUNED_SEQ_LENGTH=len(data.iloc[0][\"seq\"])\n",
        "with open (\"/content/VAE_protein_function/PABP_YEAST_hmmerbit_t0.2_r50000.reweight\",\"rb\") as to_read:\n",
        "    new_weights=np.load(to_read)\n",
        "\n",
        "#new_weights=reweight_sequences(data[\"seq\"],0.1)\n",
        "len(new_weights),new_weights[:10]\n",
        "#Encode training data in one_hot vectors\n",
        "training_data_one_hot=[]\n",
        "labels=[]\n",
        "for i, row in data.iterrows():\n",
        "    training_data_one_hot.append(translate_string_to_one_hot(row[\"seq\"],ORDER_LIST))\n",
        "print (len(training_data_one_hot))\n",
        "#plt.imshow(training_data_one_hot[0],cmap=\"Greys\")\n",
        "training_data=np.array([np.array(list(sample.flatten())).T for sample in training_data_one_hot])\n",
        "print(training_data.shape)\n",
        "exp_data_full=pd.read_csv(\n",
        "    \"/content/VAE_protein_function/PABP_YEAST_Fields2013-singles.csv\", sep=\";\", comment=\"#\"\n",
        ")\n",
        "print (\"number of mutants: \",len(exp_data_full))\n",
        "exp_data_full.head()\n",
        "exp_data_full.iloc[87]\n",
        "exp_data_full.corr(method=\"spearman\")\n",
        "OFFSET=117\n",
        "#Deciding offset requires investigating the dataset and alignment.\n",
        "exp_data_singles=pd.DataFrame(columns=exp_data_full.columns)\n",
        "#decide starting index depending on how the file is \"headered\"\n",
        "for i,row in exp_data_full[1:].iterrows():\n",
        "        pos=re.split(r'(\\d+)', row.mutant) \n",
        "        if int(pos[1])-OFFSET in indices:\n",
        "            exp_data_singles=exp_data_singles.append(row)\n",
        "exp_data_singles=exp_data_singles.reset_index()\n",
        "target_values_singles=list(exp_data_singles[\"linear\"])\n",
        "exp_data_singles.head(10)"
      ],
      "execution_count": 10,
      "outputs": [
        {
          "output_type": "stream",
          "text": [
            "50000\n",
            "(50000, 1968)\n",
            "number of mutants:  1188\n"
          ],
          "name": "stdout"
        },
        {
          "output_type": "execute_result",
          "data": {
            "text/html": [
              "<div>\n",
              "<style scoped>\n",
              "    .dataframe tbody tr th:only-of-type {\n",
              "        vertical-align: middle;\n",
              "    }\n",
              "\n",
              "    .dataframe tbody tr th {\n",
              "        vertical-align: top;\n",
              "    }\n",
              "\n",
              "    .dataframe thead th {\n",
              "        text-align: right;\n",
              "    }\n",
              "</style>\n",
              "<table border=\"1\" class=\"dataframe\">\n",
              "  <thead>\n",
              "    <tr style=\"text-align: right;\">\n",
              "      <th></th>\n",
              "      <th>index</th>\n",
              "      <th>mutant</th>\n",
              "      <th>effect_prediction_epistatic</th>\n",
              "      <th>effect_prediction_independent</th>\n",
              "      <th>linear</th>\n",
              "    </tr>\n",
              "  </thead>\n",
              "  <tbody>\n",
              "    <tr>\n",
              "      <th>0</th>\n",
              "      <td>1</td>\n",
              "      <td>G126C</td>\n",
              "      <td>-5.663638</td>\n",
              "      <td>-0.027602</td>\n",
              "      <td>0.449027</td>\n",
              "    </tr>\n",
              "    <tr>\n",
              "      <th>1</th>\n",
              "      <td>2</td>\n",
              "      <td>G126E</td>\n",
              "      <td>-6.611062</td>\n",
              "      <td>-1.827612</td>\n",
              "      <td>0.588928</td>\n",
              "    </tr>\n",
              "    <tr>\n",
              "      <th>2</th>\n",
              "      <td>3</td>\n",
              "      <td>G126D</td>\n",
              "      <td>-7.270577</td>\n",
              "      <td>-1.180094</td>\n",
              "      <td>0.229853</td>\n",
              "    </tr>\n",
              "    <tr>\n",
              "      <th>3</th>\n",
              "      <td>4</td>\n",
              "      <td>G126N</td>\n",
              "      <td>-5.809167</td>\n",
              "      <td>0.387443</td>\n",
              "      <td>0.679435</td>\n",
              "    </tr>\n",
              "    <tr>\n",
              "      <th>4</th>\n",
              "      <td>5</td>\n",
              "      <td>G126S</td>\n",
              "      <td>-4.617248</td>\n",
              "      <td>0.661686</td>\n",
              "      <td>0.721788</td>\n",
              "    </tr>\n",
              "    <tr>\n",
              "      <th>5</th>\n",
              "      <td>6</td>\n",
              "      <td>G126R</td>\n",
              "      <td>-5.582381</td>\n",
              "      <td>1.144148</td>\n",
              "      <td>0.313690</td>\n",
              "    </tr>\n",
              "    <tr>\n",
              "      <th>6</th>\n",
              "      <td>7</td>\n",
              "      <td>G126W</td>\n",
              "      <td>-8.079901</td>\n",
              "      <td>-2.052391</td>\n",
              "      <td>0.226032</td>\n",
              "    </tr>\n",
              "    <tr>\n",
              "      <th>7</th>\n",
              "      <td>8</td>\n",
              "      <td>G126V</td>\n",
              "      <td>-5.435631</td>\n",
              "      <td>-0.800307</td>\n",
              "      <td>0.230315</td>\n",
              "    </tr>\n",
              "    <tr>\n",
              "      <th>8</th>\n",
              "      <td>9</td>\n",
              "      <td>N127A</td>\n",
              "      <td>-4.987206</td>\n",
              "      <td>-2.251823</td>\n",
              "      <td>0.062650</td>\n",
              "    </tr>\n",
              "    <tr>\n",
              "      <th>9</th>\n",
              "      <td>10</td>\n",
              "      <td>N127C</td>\n",
              "      <td>-8.044181</td>\n",
              "      <td>-2.215639</td>\n",
              "      <td>0.024996</td>\n",
              "    </tr>\n",
              "  </tbody>\n",
              "</table>\n",
              "</div>"
            ],
            "text/plain": [
              "   index mutant  ...  effect_prediction_independent    linear\n",
              "0      1  G126C  ...                      -0.027602  0.449027\n",
              "1      2  G126E  ...                      -1.827612  0.588928\n",
              "2      3  G126D  ...                      -1.180094  0.229853\n",
              "3      4  G126N  ...                       0.387443  0.679435\n",
              "4      5  G126S  ...                       0.661686  0.721788\n",
              "5      6  G126R  ...                       1.144148  0.313690\n",
              "6      7  G126W  ...                      -2.052391  0.226032\n",
              "7      8  G126V  ...                      -0.800307  0.230315\n",
              "8      9  N127A  ...                      -2.251823  0.062650\n",
              "9     10  N127C  ...                      -2.215639  0.024996\n",
              "\n",
              "[10 rows x 5 columns]"
            ]
          },
          "metadata": {
            "tags": []
          },
          "execution_count": 10
        }
      ]
    },
    {
      "cell_type": "code",
      "metadata": {
        "id": "M7q8KksBFXR5",
        "colab_type": "code",
        "colab": {
          "base_uri": "https://localhost:8080/",
          "height": 407
        },
        "outputId": "0337d372-6429-43c0-aa54-a406920e3978"
      },
      "source": [
        "PRUNED_SEQ_LENGTH=len(data.iloc[0][\"seq\"])\n",
        "with open (\"/content/VAE_protein_function/PABP_YEAST_hmmerbit_t0.2_r50000.reweight\",\"rb\") as to_read:\n",
        "    new_weights=np.load(to_read)\n",
        "\n",
        "#new_weights=reweight_sequences(data[\"seq\"],0.1)\n",
        "len(new_weights),new_weights[:10]\n",
        "#Encode training data in one_hot vectors\n",
        "training_data_one_hot=[]\n",
        "labels=[]\n",
        "for i, row in data.iterrows():\n",
        "    training_data_one_hot.append(translate_string_to_one_hot(row[\"seq\"],ORDER_LIST))\n",
        "print (len(training_data_one_hot))\n",
        "#plt.imshow(training_data_one_hot[0],cmap=\"Greys\")\n",
        "training_data=np.array([np.array(list(sample.flatten())).T for sample in training_data_one_hot])\n",
        "print(training_data.shape)\n",
        "exp_data_full=pd.read_csv(\n",
        "    \"/content/VAE_protein_function/PABP_YEAST_Fields2013-singles.csv\", sep=\";\", comment=\"#\"\n",
        ")\n",
        "print (\"number of mutants: \",len(exp_data_full))\n",
        "exp_data_full.head()\n",
        "exp_data_full.iloc[87]\n",
        "exp_data_full.corr(method=\"spearman\")\n",
        "OFFSET=117\n",
        "#Deciding offset requires investigating the dataset and alignment.\n",
        "exp_data_singles=pd.DataFrame(columns=exp_data_full.columns)\n",
        "#decide starting index depending on how the file is \"headered\"\n",
        "for i,row in exp_data_full[1:].iterrows():\n",
        "        pos=re.split(r'(\\d+)', row.mutant) \n",
        "        if int(pos[1])-OFFSET in indices:\n",
        "            exp_data_singles=exp_data_singles.append(row)\n",
        "exp_data_singles=exp_data_singles.reset_index()\n",
        "target_values_singles=list(exp_data_singles[\"linear\"])\n",
        "exp_data_singles.head(10)"
      ],
      "execution_count": 12,
      "outputs": [
        {
          "output_type": "stream",
          "text": [
            "50000\n",
            "(50000, 1968)\n",
            "number of mutants:  1188\n"
          ],
          "name": "stdout"
        },
        {
          "output_type": "execute_result",
          "data": {
            "text/html": [
              "<div>\n",
              "<style scoped>\n",
              "    .dataframe tbody tr th:only-of-type {\n",
              "        vertical-align: middle;\n",
              "    }\n",
              "\n",
              "    .dataframe tbody tr th {\n",
              "        vertical-align: top;\n",
              "    }\n",
              "\n",
              "    .dataframe thead th {\n",
              "        text-align: right;\n",
              "    }\n",
              "</style>\n",
              "<table border=\"1\" class=\"dataframe\">\n",
              "  <thead>\n",
              "    <tr style=\"text-align: right;\">\n",
              "      <th></th>\n",
              "      <th>index</th>\n",
              "      <th>mutant</th>\n",
              "      <th>effect_prediction_epistatic</th>\n",
              "      <th>effect_prediction_independent</th>\n",
              "      <th>linear</th>\n",
              "    </tr>\n",
              "  </thead>\n",
              "  <tbody>\n",
              "    <tr>\n",
              "      <th>0</th>\n",
              "      <td>1</td>\n",
              "      <td>G126C</td>\n",
              "      <td>-5.663638</td>\n",
              "      <td>-0.027602</td>\n",
              "      <td>0.449027</td>\n",
              "    </tr>\n",
              "    <tr>\n",
              "      <th>1</th>\n",
              "      <td>2</td>\n",
              "      <td>G126E</td>\n",
              "      <td>-6.611062</td>\n",
              "      <td>-1.827612</td>\n",
              "      <td>0.588928</td>\n",
              "    </tr>\n",
              "    <tr>\n",
              "      <th>2</th>\n",
              "      <td>3</td>\n",
              "      <td>G126D</td>\n",
              "      <td>-7.270577</td>\n",
              "      <td>-1.180094</td>\n",
              "      <td>0.229853</td>\n",
              "    </tr>\n",
              "    <tr>\n",
              "      <th>3</th>\n",
              "      <td>4</td>\n",
              "      <td>G126N</td>\n",
              "      <td>-5.809167</td>\n",
              "      <td>0.387443</td>\n",
              "      <td>0.679435</td>\n",
              "    </tr>\n",
              "    <tr>\n",
              "      <th>4</th>\n",
              "      <td>5</td>\n",
              "      <td>G126S</td>\n",
              "      <td>-4.617248</td>\n",
              "      <td>0.661686</td>\n",
              "      <td>0.721788</td>\n",
              "    </tr>\n",
              "    <tr>\n",
              "      <th>5</th>\n",
              "      <td>6</td>\n",
              "      <td>G126R</td>\n",
              "      <td>-5.582381</td>\n",
              "      <td>1.144148</td>\n",
              "      <td>0.313690</td>\n",
              "    </tr>\n",
              "    <tr>\n",
              "      <th>6</th>\n",
              "      <td>7</td>\n",
              "      <td>G126W</td>\n",
              "      <td>-8.079901</td>\n",
              "      <td>-2.052391</td>\n",
              "      <td>0.226032</td>\n",
              "    </tr>\n",
              "    <tr>\n",
              "      <th>7</th>\n",
              "      <td>8</td>\n",
              "      <td>G126V</td>\n",
              "      <td>-5.435631</td>\n",
              "      <td>-0.800307</td>\n",
              "      <td>0.230315</td>\n",
              "    </tr>\n",
              "    <tr>\n",
              "      <th>8</th>\n",
              "      <td>9</td>\n",
              "      <td>N127A</td>\n",
              "      <td>-4.987206</td>\n",
              "      <td>-2.251823</td>\n",
              "      <td>0.062650</td>\n",
              "    </tr>\n",
              "    <tr>\n",
              "      <th>9</th>\n",
              "      <td>10</td>\n",
              "      <td>N127C</td>\n",
              "      <td>-8.044181</td>\n",
              "      <td>-2.215639</td>\n",
              "      <td>0.024996</td>\n",
              "    </tr>\n",
              "  </tbody>\n",
              "</table>\n",
              "</div>"
            ],
            "text/plain": [
              "   index mutant  ...  effect_prediction_independent    linear\n",
              "0      1  G126C  ...                      -0.027602  0.449027\n",
              "1      2  G126E  ...                      -1.827612  0.588928\n",
              "2      3  G126D  ...                      -1.180094  0.229853\n",
              "3      4  G126N  ...                       0.387443  0.679435\n",
              "4      5  G126S  ...                       0.661686  0.721788\n",
              "5      6  G126R  ...                       1.144148  0.313690\n",
              "6      7  G126W  ...                      -2.052391  0.226032\n",
              "7      8  G126V  ...                      -0.800307  0.230315\n",
              "8      9  N127A  ...                      -2.251823  0.062650\n",
              "9     10  N127C  ...                      -2.215639  0.024996\n",
              "\n",
              "[10 rows x 5 columns]"
            ]
          },
          "metadata": {
            "tags": []
          },
          "execution_count": 12
        }
      ]
    },
    {
      "cell_type": "code",
      "metadata": {
        "id": "CiBi0T_lFowg",
        "colab_type": "code",
        "colab": {
          "base_uri": "https://localhost:8080/",
          "height": 52
        },
        "outputId": "33e4e286-d075-4849-89df-bd83b75aa6f9"
      },
      "source": [
        "mutation_data=[re.split(r'(\\d+)', s) for s in exp_data_singles.mutant]#split the mutant coll e.g.N,126,C\n",
        "wt_sequence=data.iloc[0].seq#wt:KGSGNIFIKNLHPDIDNKALYDTFSVFGDILSS\n",
        "mutants=mutate_single(wt_sequence,mutation_data,offset=0,index=3) #note that you change index to 1\n",
        "\n",
        "#sanity checks\n",
        "print (len(mutants),len(exp_data_singles))\n",
        "#the mutant should be in the correct place\n",
        "print (list(zip(wt_sequence,mutants[3]))[:10])#change the index [3] G to N and pring the first 10 position of mutant\n",
        "#Test data with wt at 0 index\n",
        "one_hot_mutants=[]#encode each matant to one hot \n",
        "mutants_plus=[data.iloc[0][\"seq\"]]+mutants\n",
        "for mutant in mutants_plus:\n",
        "    one_hot_mutants.append(translate_string_to_one_hot(\"\".join(mutant),ORDER_LIST))\n",
        "\n",
        "test_data_plus=np.array([np.array(list(sample.flatten())).T for sample in one_hot_mutants])"
      ],
      "execution_count": 13,
      "outputs": [
        {
          "output_type": "stream",
          "text": [
            "1187 1187\n",
            "[('K', 'K'), ('G', 'G'), ('S', 'S'), ('G', 'N'), ('N', 'N'), ('I', 'I'), ('F', 'F'), ('I', 'I'), ('K', 'K'), ('N', 'N')]\n"
          ],
          "name": "stdout"
        }
      ]
    },
    {
      "cell_type": "code",
      "metadata": {
        "id": "e81nXdYiFs03",
        "colab_type": "code",
        "colab": {
          "base_uri": "https://localhost:8080/",
          "height": 69
        },
        "outputId": "fc7b43f2-9cbb-4958-abc4-c875b7fc531a"
      },
      "source": [
        "exp_data_full=pd.read_csv(\n",
        "    \"/content/VAE_protein_function/PABP_YEAST_Fields2013-doubles.csv\", sep=\";\", comment=\"#\"\n",
        ")\n",
        "print (\"number of mutants: \",len(exp_data_full))\n",
        "exp_data_full.head()\n",
        "exp_data_full.iloc[0]\n",
        "exp_data_full.corr(method=\"spearman\")\n",
        "OFFSET=160\n",
        "#Deciding offset requires investigating the dataset and alignment.\n",
        "exp_data_doubles=pd.DataFrame(columns=exp_data_full.columns)\n",
        "#decide starting index depending on how the file is \"headered\"\n",
        "for i,row in exp_data_full[0:].iterrows():\n",
        "        pos=re.split(r'(\\d+)', row.mutant) \n",
        "        if int(pos[1])-OFFSET in indices and int(pos[3])-OFFSET in indices:\n",
        "            exp_data_doubles=exp_data_doubles.append(row)\n",
        "exp_data_doubles=exp_data_doubles.reset_index()\n",
        "exp_data_doubles.head(5)\n",
        "target_values_doubles=list(exp_data_doubles[\"XY_Enrichment_score\"])\n",
        "exp_data_doubles.corr(method=\"spearman\")\n",
        "mutation_data1=[re.split(r'(\\d+)', s.split(\",\")[0]) for s in exp_data_doubles.mutant]\n",
        "mutation_data2=[re.split(r'(\\d+)', s.split(\",\")[1]) for s in exp_data_doubles.mutant]\n",
        "wt_sequence=data.iloc[0].seq#KGSGNIFIKNLHPDIDNKALYDTFSVFGDILSS\n",
        "\n",
        "mutants_double=mutate_double(wt_sequence,mutation_data1,mutation_data2,offset=0,index=46)\n",
        "\n",
        "#sanity checks\n",
        "print (len(mutants_double),len(exp_data_doubles))\n",
        "#the mutant should be in the correct place\n",
        "print (list(zip(wt_sequence,mutants_double[2]))[40:50])\n",
        "#Test data with wt at 0 index\n",
        "one_hot_mutants=[]\n",
        "mutants_plus=[data.iloc[0][\"seq\"]]+mutants_double\n",
        "for mutant in mutants_plus:\n",
        "    one_hot_mutants.append(translate_string_to_one_hot(\"\".join(mutant),ORDER_LIST))\n",
        "\n",
        "test_data_doubles_plus=np.array([np.array(list(sample.flatten())).T for sample in one_hot_mutants])"
      ],
      "execution_count": 14,
      "outputs": [
        {
          "output_type": "stream",
          "text": [
            "number of mutants:  36522\n",
            "13876 13876\n",
            "[('G', 'G'), ('K', 'K'), ('S', 'S'), ('K', 'K'), ('G', 'G'), ('F', 'F'), ('G', 'A'), ('F', 'I'), ('V', 'V'), ('H', 'H')]\n"
          ],
          "name": "stdout"
        }
      ]
    },
    {
      "cell_type": "code",
      "metadata": {
        "id": "HW3M5N6ZF07I",
        "colab_type": "code",
        "colab": {}
      },
      "source": [
        "all_test_data=np.vstack([test_data_plus,test_data_doubles_plus[1:]])\n",
        "all_test_data_flattened=np.array([np.array(list(sample.flatten())).T for sample in all_test_data])"
      ],
      "execution_count": 15,
      "outputs": []
    },
    {
      "cell_type": "code",
      "metadata": {
        "id": "NtdjSDX6GBDB",
        "colab_type": "code",
        "colab": {}
      },
      "source": [
        ""
      ],
      "execution_count": null,
      "outputs": []
    },
    {
      "cell_type": "code",
      "metadata": {
        "id": "3_UpIct-F8gH",
        "colab_type": "code",
        "colab": {}
      },
      "source": [
        "class rho_vs_mutants(keras.callbacks.Callback):\n",
        "    def __init__(self,mutants,test_set_size,aa_size,sequence_size):\n",
        "        self.mutants=mutants\n",
        "        self.sample_size=test_set_size\n",
        "        self.aa_size=aa_size\n",
        "        self.sequence_size=sequence_size\n",
        "        self.scores=[]\n",
        "        self.count_batch=0\n",
        "    def on_train_begin(self, logs={}):\n",
        "        self.losses = []\n",
        "    def on_batch_end(self, batch, logs={}):\n",
        "        self.losses.append(logs.get('loss'))\n",
        "    #This allows us to track the \"progress\" of the model on different epochs\n",
        "    def on_epoch_end(self,batch,logs):\n",
        "        x_decoded=vae.predict(test_data_plus[0:self.sample_size],batch_size=batch_size)\n",
        "        digit = x_decoded[0].reshape(self.aa_size,self.sequence_size)\n",
        "        digit_wt = normalize(digit,axis=0, norm='l1')\n",
        "        wt_prob=compute_log_probability(digit,digit_wt)\n",
        "        fitnesses=[]\n",
        "        for sample in range(1,self.sample_size):\n",
        "            digit = x_decoded[sample].reshape(self.aa_size,self.sequence_size)\n",
        "            digit = normalize(digit,axis=0, norm='l1')\n",
        "            fitness=compute_log_probability(test_data_plus[sample].reshape(self.aa_size,self.sequence_size),digit)-wt_prob\n",
        "            fitnesses.append(fitness)\n",
        "#Recontruction sample generated from the decoder with test data after each epoch            \n",
        "#Using these reconstructions, compute the (log) probability of a sequence\n",
        "#Once we have computed P(σi) for every sequence σi in our mutant set, \n",
        "#we can compare the rho of each sequence with the experimentally measured function of the sequence.\n",
        "        print (\",\"+str(spearmanr(fitnesses,target_values_singles[:self.sample_size-1])))\n",
        "        #target_values_singles=list(exp_data_singles[\"linear\"])\n",
        "        self.scores.append(spearmanr(fitnesses,target_values_singles[:self.sample_size-1])[0])"
      ],
      "execution_count": 16,
      "outputs": []
    },
    {
      "cell_type": "code",
      "metadata": {
        "id": "rbIxusYHGC7T",
        "colab_type": "code",
        "colab": {
          "base_uri": "https://localhost:8080/",
          "height": 55
        },
        "outputId": "db84972a-63ab-4c30-e909-b8ba5e035f3e"
      },
      "source": [
        "batch_size = 20\n",
        "original_dim=len(ORDER_LIST)*PRUNED_SEQ_LENGTH\n",
        "output_dim=len(ORDER_LIST)*PRUNED_SEQ_LENGTH\n",
        "latent_dim = 2\n",
        "intermediate_dim = 250#500\n",
        "nb_epoch = 2\n",
        "epsilon_std = 1.0\n",
        "np.random.seed(42)  \n",
        "#cnn based vae  \n",
        "def sampling(args):\n",
        "    \"\"\"Reparameterization trick by sampling from an isotropic unit Gaussian.\n",
        "    # Arguments\n",
        "        args (tensor): mean and log of variance of Q(z|X)\n",
        "    # Returns\n",
        "        z (tensor): sampled latent vector\n",
        "    \"\"\"\n",
        "\n",
        "    z_mean, z_log_var = args\n",
        "    batch = K.shape(z_mean)[0]\n",
        "    dim = K.int_shape(z_mean)[1]\n",
        "    # by default, random_normal has mean = 0 and std = 1.0\n",
        "    epsilon = K.random_normal(shape=(batch, dim))\n",
        "    return z_mean + K.exp(0.5 * z_log_var) * epsilon\n",
        "def vae_loss(x, x_decoded_mean):\n",
        "    xent_loss = original_dim * objectives.categorical_crossentropy(x,  x_decoded_mean)\n",
        "    kl_loss = - 0.5 * K.sum(1 + z_log_var - K.square(z_mean) - K.exp(z_log_var), axis=-1)\n",
        "    return xent_loss + kl_loss\n",
        "\n",
        "#Encoding Layers\n",
        "x = Input(batch_shape=(batch_size, original_dim))\n",
        "h = Dense(intermediate_dim,activation=\"elu\")(x)\n",
        "h= Dropout(0.7)(h)\n",
        "h = Dense(intermediate_dim, activation='elu')(h)\n",
        "h=BatchNormalization(mode=0)(h)\n",
        "h = Dense(intermediate_dim, activation='elu')(h)\n",
        "#Latent layers\n",
        "z_mean=Dense(latent_dim)(h)\n",
        "z_log_var=Dense(latent_dim)(h)\n",
        "z = Lambda(sampling, output_shape=(latent_dim,))([z_mean, z_log_var])\n",
        "\n",
        "#Decoding layers \n",
        "\n",
        "decoder_1= Dense(intermediate_dim, activation='elu')\n",
        "decoder_2=Dense(intermediate_dim, activation='elu')\n",
        "decoder_2d=Dropout(0.7)\n",
        "decoder_3=Dense(intermediate_dim, activation='elu')\n",
        "decoder_out=Dense(output_dim, activation='sigmoid')\n",
        "x_decoded_mean = decoder_out(decoder_3(decoder_2d(decoder_2(decoder_1(z)))))\n",
        "\n",
        "vae = Model(x, x_decoded_mean)\n",
        "\n",
        "#Potentially better results, but requires further hyperparameter tuning\n",
        "#optimizer=keras.optimizers.SGD(lr=0.005, momentum=0.001, decay=0.0, nesterov=False,clipvalue=0.05)\n",
        "vae.compile(optimizer=\"adam\", loss=vae_loss)"
      ],
      "execution_count": 17,
      "outputs": [
        {
          "output_type": "stream",
          "text": [
            "/usr/local/lib/python3.6/dist-packages/ipykernel_launcher.py:34: UserWarning: Update your `BatchNormalization` call to the Keras 2 API: `BatchNormalization()`\n"
          ],
          "name": "stderr"
        }
      ]
    },
    {
      "cell_type": "code",
      "metadata": {
        "id": "Oli_EIKRGJSN",
        "colab_type": "code",
        "colab": {
          "base_uri": "https://localhost:8080/",
          "height": 173
        },
        "outputId": "5becc4f3-66a5-43d2-a812-a7244544d9a4"
      },
      "source": [
        "x_train=training_data[:data_set_size] #this needs to be divisible by batch size and less than or equal to dataset size\n",
        "x_train = x_train.astype('float32')\n",
        "x_train = x_train.reshape((len(x_train), np.prod(x_train.shape[1:])))\n",
        "\n",
        "early_stopping = EarlyStopping(monitor='val_loss', patience=3)\n",
        "spearman_measure=rho_vs_mutants(test_data_plus,batch_size*int(len(test_data_plus)/batch_size),len(ORDER_LIST),PRUNED_SEQ_LENGTH)\n",
        "\n",
        "hist=vae.fit(x_train,x_train ,\n",
        "        shuffle=True,\n",
        "        nb_epoch=nb_epoch,\n",
        "        batch_size=batch_size, #sample_weight=np.array(new_weights),\n",
        "        validation_split=0.1,callbacks=[early_stopping,spearman_measure])"
      ],
      "execution_count": 18,
      "outputs": [
        {
          "output_type": "stream",
          "text": [
            "/usr/local/lib/python3.6/dist-packages/ipykernel_launcher.py:12: UserWarning: The `nb_epoch` argument in `fit` has been renamed `epochs`.\n",
            "  if sys.path[0] == '':\n"
          ],
          "name": "stderr"
        },
        {
          "output_type": "stream",
          "text": [
            "Train on 45000 samples, validate on 5000 samples\n",
            "Epoch 1/2\n",
            "45000/45000 [==============================] - 13s 300us/step - loss: 927845.3200 - val_loss: 973076.0988\n",
            ",SpearmanrResult(correlation=0.550152511309947, pvalue=3.086115339925071e-94)\n",
            "Epoch 2/2\n",
            "45000/45000 [==============================] - 11s 251us/step - loss: 882463.3683 - val_loss: 966625.6115\n",
            ",SpearmanrResult(correlation=0.6048605169915526, pvalue=1.4847090418702753e-118)\n"
          ],
          "name": "stdout"
        }
      ]
    },
    {
      "cell_type": "code",
      "metadata": {
        "id": "DRF7gTezGOxZ",
        "colab_type": "code",
        "colab": {
          "base_uri": "https://localhost:8080/",
          "height": 295
        },
        "outputId": "d42d0fb4-2b0e-467f-ce10-c05d2e2c425b"
      },
      "source": [
        "plt.plot(spearman_measure.scores)\n",
        "plt.title(\"Spearman corr over epochs\")\n",
        "plt.xlabel(\"epochs\")\n",
        "plt.ylabel(\"Spearman corr\");"
      ],
      "execution_count": 19,
      "outputs": [
        {
          "output_type": "display_data",
          "data": {
            "image/png": "[encoded data removed]",
            "text/plain": [
              "<Figure size 432x288 with 1 Axes>"
            ]
          },
          "metadata": {
            "tags": [],
            "needs_background": "light"
          }
        }
      ]
    },
    {
      "cell_type": "code",
      "metadata": {
        "id": "ZNjEBaV4GVWC",
        "colab_type": "code",
        "colab": {}
      },
      "source": [
        "encoder = Model(x, z_mean)\n",
        "sample_points=data_set_size\n",
        "\n",
        "sample_size=batch_size*int(len(test_data_plus)/batch_size)\n",
        "sample_for_averging_size=100\n",
        "sequence_size=PRUNED_SEQ_LENGTH#82\n",
        "digit_size = len(ORDER_LIST)"
      ],
      "execution_count": 20,
      "outputs": []
    },
    {
      "cell_type": "code",
      "metadata": {
        "id": "5DXnAhy-GYFm",
        "colab_type": "code",
        "colab": {
          "base_uri": "https://localhost:8080/",
          "height": 295
        },
        "outputId": "24b074ab-3dd1-42c1-859c-78421d5719b7"
      },
      "source": [
        "fig = plt.figure(figsize=(12,18))\n",
        "\n",
        "fig.add_subplot(411)\n",
        "\n",
        "plt.pcolor(test_data_plus[0].reshape(digit_size,sequence_size),cmap=\"hot\",vmin=0,vmax=3)\n",
        "\n",
        "plt.xlim(0,82);\n",
        "plt.ylim(0,24);\n",
        "plt.yticks(range(24),ORDER_LIST)\n",
        "\n",
        "plt.title(\"one hot encoding of input sequence (wt(red))\")"
      ],
      "execution_count": 21,
      "outputs": [
        {
          "output_type": "execute_result",
          "data": {
            "text/plain": [
              "Text(0.5, 1.0, 'one hot encoding of input sequence (wt(red))')"
            ]
          },
          "metadata": {
            "tags": []
          },
          "execution_count": 21
        },
        {
          "output_type": "display_data",
          "data": {
            "image/png": "[encoded data removed]",
            "text/plain": [
              "<Figure size 864x1296 with 1 Axes>"
            ]
          },
          "metadata": {
            "tags": [],
            "needs_background": "light"
          }
        }
      ]
    },
    {
      "cell_type": "code",
      "metadata": {
        "id": "NVxzgtcJGbX-",
        "colab_type": "code",
        "colab": {
          "base_uri": "https://localhost:8080/",
          "height": 1000
        },
        "outputId": "062da264-0e64-4a0b-bdd1-ce2a43490d2f"
      },
      "source": [
        "x_decoded=vae.predict(test_data_plus[0:200],batch_size=batch_size)\n",
        "digit_wt = x_decoded[0].reshape(digit_size,sequence_size)#24*82\n",
        "fig = plt.figure(figsize=(12,18))\n",
        "\n",
        "fig.add_subplot(411)\n",
        "\n",
        "plt.pcolor(digit_wt.reshape(digit_size,sequence_size),cmap=\"hot\",vmin=0,vmax=3)\n",
        "\n",
        "plt.xlim(0,82);\n",
        "plt.ylim(0,24);\n",
        "plt.yticks(range(24),ORDER_LIST)\n",
        "\n",
        "plt.title(\"one hot encoding of recontruction sequence (wt(red))\")\n",
        "\n",
        "import numpy as np\n",
        "\n",
        "max = np.max(digit_wt,axis=0)\n",
        "for i in range(82):  \n",
        "    for j in range(24):\n",
        "        if (max[i]>digit_wt[j,i]):\n",
        "            digit_wt [j,i] = 0\n",
        "        else:\n",
        "            digit_wt [j,i] = 1\n",
        "#print(digit_wt)  \n",
        "fig = plt.figure(figsize=(12,18))\n",
        "\n",
        "fig.add_subplot(412)\n",
        "\n",
        "plt.pcolor(digit_wt.reshape(digit_size,sequence_size),cmap=\"hot\",vmin=0,vmax=3)\n",
        "\n",
        "plt.xlim(0,82);\n",
        "plt.ylim(0,24);\n",
        "plt.yticks(range(24),ORDER_LIST)\n",
        "\n",
        "plt.title(\"one hot encoding of recontruction sequence (wt(red))\")\n",
        "\n",
        "fig = plt.figure(figsize=(12,18))\n",
        "\n",
        "fig.add_subplot(411)\n",
        "\n",
        "plt.pcolor(test_data_plus[0].reshape(digit_size,sequence_size),cmap=\"hot\",vmin=0,vmax=3)\n",
        "\n",
        "plt.xlim(0,82);\n",
        "plt.ylim(0,24);\n",
        "plt.yticks(range(24),ORDER_LIST)\n",
        "\n",
        "plt.title(\"one hot encoding of input sequence (wt(red))\")\n",
        "\n",
        "\n",
        "fig = plt.figure(figsize=(12,18))\n",
        "\n",
        "fig.add_subplot(413)\n",
        "plt.pcolor(test_data_plus[0].reshape(digit_size,sequence_size)-digit_wt,cmap=\"bwr\",vmin=-0.05,vmax=0.05)\n",
        "plt.colorbar()\n",
        "plt.xlim(0,82);\n",
        "plt.ylim(0,24);\n",
        "plt.yticks(range(24),ORDER_LIST)\n",
        "\n",
        "plt.title(\"differences of input and recontruction\");"
      ],
      "execution_count": 22,
      "outputs": [
        {
          "output_type": "display_data",
          "data": {
            "image/png": "[encoded data removed]",
            "text/plain": [
              "<Figure size 864x1296 with 1 Axes>"
            ]
          },
          "metadata": {
            "tags": [],
            "needs_background": "light"
          }
        },
        {
          "output_type": "display_data",
          "data": {
            "image/png": "[encoded data removed]",
            "text/plain": [
              "<Figure size 864x1296 with 1 Axes>"
            ]
          },
          "metadata": {
            "tags": [],
            "needs_background": "light"
          }
        },
        {
          "output_type": "display_data",
          "data": {
            "image/png": "[encoded data removed]",
            "text/plain": [
              "<Figure size 864x1296 with 1 Axes>"
            ]
          },
          "metadata": {
            "tags": [],
            "needs_background": "light"
          }
        },
        {
          "output_type": "display_data",
          "data": {
            "image/png": "[encoded data removed]",
            "text/plain": [
              "<Figure size 864x1296 with 2 Axes>"
            ]
          },
          "metadata": {
            "tags": [],
            "needs_background": "light"
          }
        }
      ]
    }
  ]
}