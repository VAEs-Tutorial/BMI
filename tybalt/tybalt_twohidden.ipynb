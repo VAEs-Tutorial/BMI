{
 "cells": [
  {
   "cell_type": "markdown",
   "metadata": {},
   "source": [
    "# Training Tybalt models with two hidden layers\n",
    "\n",
    "**Gregory Way 2017**\n",
    "\n",
    "This script is an extension of [tybalt_vae.ipynb](tybalt_vae.ipynb). See that script for more details about the base model. Here, I train two alternative Tybalt models with different architectures. Both architectures have two hidden layers:\n",
    "\n",
    "1. **Model A**: 5000 input -> 100 hidden -> 100 latent -> 100 hidden -> 5000 input\n",
    "2. **Model B**: 5000 input -> 300 hidden -> 100 latent -> 300 hidden -> 5000 input\n",
    "\n",
    "This notebook trains _both_ models. The optimal hyperparameters were selected through a grid search for each model independently.\n",
    "\n",
    "The original tybalt model compressed 5000 input genes into 100 latent features in a single layer.\n",
    "\n",
    "Much of this script is inspired by the [keras variational_autoencoder.py example](https://github.com/fchollet/keras/blob/master/examples/variational_autoencoder.py)\n",
    "\n",
    "## Output\n",
    "\n",
    "For both models, the script will output:\n",
    "\n",
    "1. The learned latent feature matrix\n",
    "2. Encoder and Decoder keras models with pretrained weights\n",
    "3. An abstracted weight matrix"
   ]
  },
  {
   "cell_type": "code",
   "execution_count": 1,
   "metadata": {
    "collapsed": false,
    "deletable": true,
    "editable": true
   },
   "outputs": [
    {
     "name": "stderr",
     "output_type": "stream",
     "text": [
      "Using TensorFlow backend.\n"
     ]
    }
   ],
   "source": [
    "import os\n",
    "import numpy as np\n",
    "import pandas as pd\n",
    "import matplotlib.pyplot as plt\n",
    "\n",
    "import tensorflow as tf\n",
    "from keras.layers import Input, Dense, Lambda, Layer, Activation\n",
    "from keras.layers.normalization import BatchNormalization\n",
    "from keras.models import Model, Sequential\n",
    "from keras import backend as K\n",
    "from keras import metrics, optimizers\n",
    "from keras.callbacks import Callback\n",
    "import keras\n",
    "\n",
    "import pydot\n",
    "import graphviz\n",
    "from keras.utils import plot_model\n",
    "from IPython.display import SVG\n",
    "from keras.utils.vis_utils import model_to_dot"
   ]
  },
  {
   "cell_type": "code",
   "execution_count": 2,
   "metadata": {
    "collapsed": false,
    "deletable": true,
    "editable": true
   },
   "outputs": [
    {
     "name": "stdout",
     "output_type": "stream",
     "text": [
      "2.0.5\n"
     ]
    },
    {
     "data": {
      "text/plain": [
       "'1.2.1'"
      ]
     },
     "execution_count": 2,
     "metadata": {},
     "output_type": "execute_result"
    }
   ],
   "source": [
    "print(keras.__version__)\n",
    "tf.__version__"
   ]
  },
  {
   "cell_type": "code",
   "execution_count": 3,
   "metadata": {
    "collapsed": true
   },
   "outputs": [],
   "source": [
    "%matplotlib inline\n",
    "plt.style.use('seaborn-notebook')"
   ]
  },
  {
   "cell_type": "code",
   "execution_count": 4,
   "metadata": {
    "collapsed": true
   },
   "outputs": [],
   "source": [
    "np.random.seed(123)"
   ]
  },
  {
   "cell_type": "markdown",
   "metadata": {},
   "source": [
    "## Load Functions and Classes\n",
    "\n",
    "This will facilitate connections between layers and also custom hyperparameters"
   ]
  },
  {
   "cell_type": "code",
   "execution_count": 5,
   "metadata": {
    "collapsed": false
   },
   "outputs": [],
   "source": [
    "# Function for reparameterization trick to make model differentiable\n",
    "def sampling(args):\n",
    "    \n",
    "    import tensorflow as tf\n",
    "    # Function with args required for Keras Lambda function\n",
    "    z_mean, z_log_var = args\n",
    "\n",
    "    # Draw epsilon of the same shape from a standard normal distribution\n",
    "    epsilon = K.random_normal(shape=tf.shape(z_mean), mean=0.,\n",
    "                              stddev=epsilon_std)\n",
    "    \n",
    "    # The latent vector is non-deterministic and differentiable\n",
    "    # in respect to z_mean and z_log_var\n",
    "    z = z_mean + K.exp(z_log_var / 2) * epsilon\n",
    "    return z\n",
    "\n",
    "\n",
    "class CustomVariationalLayer(Layer):\n",
    "    \"\"\"\n",
    "    Define a custom layer that learns and performs the training\n",
    "\n",
    "    \"\"\"\n",
    "    def __init__(self, var_layer, mean_layer, **kwargs):\n",
    "        # https://keras.io/layers/writing-your-own-keras-layers/\n",
    "        self.is_placeholder = True\n",
    "        self.var_layer = var_layer\n",
    "        self.mean_layer = mean_layer\n",
    "        super(CustomVariationalLayer, self).__init__(**kwargs)\n",
    "\n",
    "    def vae_loss(self, x_input, x_decoded):\n",
    "        reconstruction_loss = original_dim * metrics.binary_crossentropy(x_input, x_decoded)\n",
    "        kl_loss = - 0.5 * K.sum(1 + self.var_layer - K.square(self.mean_layer) - \n",
    "                                K.exp(self.var_layer), axis=-1)\n",
    "        return K.mean(reconstruction_loss + (K.get_value(beta) * kl_loss))\n",
    "\n",
    "    def call(self, inputs):\n",
    "        x = inputs[0]\n",
    "        x_decoded = inputs[1]\n",
    "        loss = self.vae_loss(x, x_decoded)\n",
    "        self.add_loss(loss, inputs=inputs)\n",
    "        # We won't actually use the output.\n",
    "        return x"
   ]
  },
  {
   "cell_type": "markdown",
   "metadata": {},
   "source": [
    "### Implementing Warm-up as described in Sonderby et al. LVAE\n",
    "\n",
    "This is modified code from https://github.com/fchollet/keras/issues/2595"
   ]
  },
  {
   "cell_type": "code",
   "execution_count": 6,
   "metadata": {
    "collapsed": false
   },
   "outputs": [],
   "source": [
    "class WarmUpCallback(Callback):\n",
    "    def __init__(self, beta, kappa):\n",
    "        self.beta = beta\n",
    "        self.kappa = kappa\n",
    "    # Behavior on each epoch\n",
    "    def on_epoch_end(self, epoch, logs={}):\n",
    "        if K.get_value(self.beta) <= 1:\n",
    "            K.set_value(self.beta, K.get_value(self.beta) + self.kappa)"
   ]
  },
  {
   "cell_type": "markdown",
   "metadata": {},
   "source": [
    "### Tybalt Model\n",
    "\n",
    "The following class implements a Tybalt model with given input hyperparameters. Currently, only a two hidden layer model is supported."
   ]
  },
  {
   "cell_type": "code",
   "execution_count": 7,
   "metadata": {
    "collapsed": true
   },
   "outputs": [],
   "source": [
    "class Tybalt():\n",
    "    \"\"\"\n",
    "    Facilitates the training and output of tybalt model trained on TCGA RNAseq gene expression data\n",
    "    \"\"\"\n",
    "    def __init__(self, original_dim, hidden_dim, latent_dim,\n",
    "                 batch_size, epochs, learning_rate, kappa, beta):\n",
    "        self.original_dim = original_dim\n",
    "        self.hidden_dim = hidden_dim\n",
    "        self.latent_dim = latent_dim\n",
    "        self.batch_size = batch_size\n",
    "        self.epochs = epochs\n",
    "        self.learning_rate = learning_rate\n",
    "        self.kappa = kappa\n",
    "        self.beta = beta\n",
    "\n",
    "    def build_encoder_layer(self):\n",
    "        # Input place holder for RNAseq data with specific input size\n",
    "        self.rnaseq_input = Input(shape=(self.original_dim, ))\n",
    "\n",
    "        # Input layer is compressed into a mean and log variance vector of size `latent_dim`\n",
    "        # Each layer is initialized with glorot uniform weights and each step (dense connections, batch norm,\n",
    "        # and relu activation) are funneled separately\n",
    "        # Each vector of length `latent_dim` are connected to the rnaseq input tensor\n",
    "        hidden_dense_linear = Dense(self.hidden_dim, kernel_initializer='glorot_uniform')(self.rnaseq_input)\n",
    "        hidden_dense_batchnorm = BatchNormalization()(hidden_dense_linear)\n",
    "        hidden_encoded = Activation('relu')(hidden_dense_batchnorm)\n",
    "\n",
    "        z_mean_dense_linear = Dense(self.latent_dim, kernel_initializer='glorot_uniform')(hidden_encoded)\n",
    "        z_mean_dense_batchnorm = BatchNormalization()(z_mean_dense_linear)\n",
    "        self.z_mean_encoded = Activation('relu')(z_mean_dense_batchnorm)\n",
    "\n",
    "        z_log_var_dense_linear = Dense(self.latent_dim, kernel_initializer='glorot_uniform')(hidden_encoded)\n",
    "        z_log_var_dense_batchnorm = BatchNormalization()(z_log_var_dense_linear)\n",
    "        self.z_log_var_encoded = Activation('relu')(z_log_var_dense_batchnorm)\n",
    "\n",
    "        # return the encoded and randomly sampled z vector\n",
    "        # Takes two keras layers as input to the custom sampling function layer with a `latent_dim` output\n",
    "        self.z = Lambda(sampling, output_shape=(self.latent_dim, ))([self.z_mean_encoded, self.z_log_var_encoded])\n",
    "    \n",
    "    def build_decoder_layer(self):\n",
    "        # The decoding layer is much simpler with a single layer glorot uniform initialized and sigmoid activation\n",
    "        self.decoder_model = Sequential()\n",
    "        self.decoder_model.add(Dense(self.hidden_dim, activation='relu', input_dim=self.latent_dim))\n",
    "        self.decoder_model.add(Dense(self.original_dim, activation='sigmoid'))\n",
    "        self.rnaseq_reconstruct = self.decoder_model(self.z)\n",
    "        \n",
    "    def compile_vae(self):\n",
    "        adam = optimizers.Adam(lr=self.learning_rate)\n",
    "        vae_layer = CustomVariationalLayer(self.z_log_var_encoded,\n",
    "                                           self.z_mean_encoded)([self.rnaseq_input, self.rnaseq_reconstruct])\n",
    "        self.vae = Model(self.rnaseq_input, vae_layer)\n",
    "        self.vae.compile(optimizer=adam, loss=None, loss_weights=[self.beta])\n",
    "        \n",
    "    def get_summary(self):\n",
    "        self.vae.summary()\n",
    "    \n",
    "    def visualize_architecture(self, output_file):\n",
    "        # Visualize the connections of the custom VAE model\n",
    "        plot_model(self.vae, to_file=output_file)\n",
    "        SVG(model_to_dot(self.vae).create(prog='dot', format='svg'))\n",
    "        \n",
    "    def train_vae(self):\n",
    "        self.hist = self.vae.fit(np.array(rnaseq_train_df),\n",
    "               shuffle=True,\n",
    "               epochs=self.epochs,\n",
    "               batch_size=self.batch_size,\n",
    "               validation_data=(np.array(rnaseq_test_df), np.array(rnaseq_test_df)),\n",
    "               callbacks=[WarmUpCallback(self.beta, self.kappa)])\n",
    "    \n",
    "    def visualize_training(self, output_file):\n",
    "        # Visualize training performance\n",
    "        history_df = pd.DataFrame(self.hist.history)\n",
    "        ax = history_df.plot()\n",
    "        ax.set_xlabel('Epochs')\n",
    "        ax.set_ylabel('VAE Loss')\n",
    "        fig = ax.get_figure()\n",
    "        fig.savefig(output_file)\n",
    "        \n",
    "    def compress(self, df):\n",
    "        # Model to compress input\n",
    "        self.encoder = Model(self.rnaseq_input, self.z_mean_encoded)\n",
    "        \n",
    "        # Encode rnaseq into the hidden/latent representation - and save output\n",
    "        encoded_df = self.encoder.predict_on_batch(df)\n",
    "        encoded_df = pd.DataFrame(encoded_df, columns=range(1, self.latent_dim + 1),\n",
    "                                  index=rnaseq_df.index)\n",
    "        return encoded_df\n",
    "    \n",
    "    def get_decoder_weights(self):\n",
    "        # build a generator that can sample from the learned distribution\n",
    "        decoder_input = Input(shape=(self.latent_dim, ))  # can generate from any sampled z vector\n",
    "        _x_decoded_mean = self.decoder_model(decoder_input)\n",
    "        self.decoder = Model(decoder_input, _x_decoded_mean)\n",
    "        weights = []\n",
    "        for layer in self.decoder.layers:\n",
    "            weights.append(layer.get_weights())\n",
    "        return(weights)\n",
    "    \n",
    "    def predict(self, df):\n",
    "        return self.decoder.predict(np.array(df))\n",
    "    \n",
    "    def save_models(self, encoder_file, decoder_file):\n",
    "        self.encoder.save(encoder_file)\n",
    "        self.decoder.save(decoder_file)"
   ]
  },
  {
   "cell_type": "markdown",
   "metadata": {},
   "source": [
    "## Load Gene Expression Data"
   ]
  },
  {
   "cell_type": "code",
   "execution_count": 8,
   "metadata": {
    "collapsed": false,
    "deletable": true,
    "editable": true
   },
   "outputs": [
    {
     "name": "stdout",
     "output_type": "stream",
     "text": [
      "(10459, 5000)\n"
     ]
    },
    {
     "data": {
      "text/html": [
       "<div>\n",
       "<style>\n",
       "    .dataframe thead tr:only-child th {\n",
       "        text-align: right;\n",
       "    }\n",
       "\n",
       "    .dataframe thead th {\n",
       "        text-align: left;\n",
       "    }\n",
       "\n",
       "    .dataframe tbody tr th {\n",
       "        vertical-align: top;\n",
       "    }\n",
       "</style>\n",
       "<table border=\"1\" class=\"dataframe\">\n",
       "  <thead>\n",
       "    <tr style=\"text-align: right;\">\n",
       "      <th></th>\n",
       "      <th>RPS4Y1</th>\n",
       "      <th>XIST</th>\n",
       "      <th>KRT5</th>\n",
       "      <th>AGR2</th>\n",
       "      <th>CEACAM5</th>\n",
       "      <th>KRT6A</th>\n",
       "      <th>KRT14</th>\n",
       "      <th>CEACAM6</th>\n",
       "      <th>DDX3Y</th>\n",
       "      <th>KDM5D</th>\n",
       "      <th>...</th>\n",
       "      <th>FAM129A</th>\n",
       "      <th>C8orf48</th>\n",
       "      <th>CDK5R1</th>\n",
       "      <th>FAM81A</th>\n",
       "      <th>C13orf18</th>\n",
       "      <th>GDPD3</th>\n",
       "      <th>SMAGP</th>\n",
       "      <th>C2orf85</th>\n",
       "      <th>POU5F1B</th>\n",
       "      <th>CHST2</th>\n",
       "    </tr>\n",
       "  </thead>\n",
       "  <tbody>\n",
       "    <tr>\n",
       "      <th>TCGA-02-0047-01</th>\n",
       "      <td>0.678296</td>\n",
       "      <td>0.289910</td>\n",
       "      <td>0.034230</td>\n",
       "      <td>0.0</td>\n",
       "      <td>0.0</td>\n",
       "      <td>0.084731</td>\n",
       "      <td>0.031863</td>\n",
       "      <td>0.037709</td>\n",
       "      <td>0.746797</td>\n",
       "      <td>0.687833</td>\n",
       "      <td>...</td>\n",
       "      <td>0.440610</td>\n",
       "      <td>0.428782</td>\n",
       "      <td>0.732819</td>\n",
       "      <td>0.634340</td>\n",
       "      <td>0.580662</td>\n",
       "      <td>0.294313</td>\n",
       "      <td>0.458134</td>\n",
       "      <td>0.478219</td>\n",
       "      <td>0.168263</td>\n",
       "      <td>0.638497</td>\n",
       "    </tr>\n",
       "    <tr>\n",
       "      <th>TCGA-02-0055-01</th>\n",
       "      <td>0.200633</td>\n",
       "      <td>0.654917</td>\n",
       "      <td>0.181993</td>\n",
       "      <td>0.0</td>\n",
       "      <td>0.0</td>\n",
       "      <td>0.100606</td>\n",
       "      <td>0.050011</td>\n",
       "      <td>0.092586</td>\n",
       "      <td>0.103725</td>\n",
       "      <td>0.140642</td>\n",
       "      <td>...</td>\n",
       "      <td>0.620658</td>\n",
       "      <td>0.363207</td>\n",
       "      <td>0.592269</td>\n",
       "      <td>0.602755</td>\n",
       "      <td>0.610192</td>\n",
       "      <td>0.374569</td>\n",
       "      <td>0.722420</td>\n",
       "      <td>0.271356</td>\n",
       "      <td>0.160465</td>\n",
       "      <td>0.602560</td>\n",
       "    </tr>\n",
       "  </tbody>\n",
       "</table>\n",
       "<p>2 rows × 5000 columns</p>\n",
       "</div>"
      ],
      "text/plain": [
       "                   RPS4Y1      XIST      KRT5  AGR2  CEACAM5     KRT6A  \\\n",
       "TCGA-02-0047-01  0.678296  0.289910  0.034230   0.0      0.0  0.084731   \n",
       "TCGA-02-0055-01  0.200633  0.654917  0.181993   0.0      0.0  0.100606   \n",
       "\n",
       "                    KRT14   CEACAM6     DDX3Y     KDM5D    ...      FAM129A  \\\n",
       "TCGA-02-0047-01  0.031863  0.037709  0.746797  0.687833    ...     0.440610   \n",
       "TCGA-02-0055-01  0.050011  0.092586  0.103725  0.140642    ...     0.620658   \n",
       "\n",
       "                  C8orf48    CDK5R1    FAM81A  C13orf18     GDPD3     SMAGP  \\\n",
       "TCGA-02-0047-01  0.428782  0.732819  0.634340  0.580662  0.294313  0.458134   \n",
       "TCGA-02-0055-01  0.363207  0.592269  0.602755  0.610192  0.374569  0.722420   \n",
       "\n",
       "                  C2orf85   POU5F1B     CHST2  \n",
       "TCGA-02-0047-01  0.478219  0.168263  0.638497  \n",
       "TCGA-02-0055-01  0.271356  0.160465  0.602560  \n",
       "\n",
       "[2 rows x 5000 columns]"
      ]
     },
     "execution_count": 8,
     "metadata": {},
     "output_type": "execute_result"
    }
   ],
   "source": [
    "rnaseq_file = os.path.join('data', 'pancan_scaled_zeroone_rnaseq.tsv.gz')\n",
    "rnaseq_df = pd.read_table(rnaseq_file, index_col=0)\n",
    "print(rnaseq_df.shape)\n",
    "rnaseq_df.head(2)"
   ]
  },
  {
   "cell_type": "code",
   "execution_count": 9,
   "metadata": {
    "collapsed": true,
    "deletable": true,
    "editable": true
   },
   "outputs": [],
   "source": [
    "# Split 10% test set randomly\n",
    "test_set_percent = 0.1\n",
    "rnaseq_test_df = rnaseq_df.sample(frac=test_set_percent)\n",
    "rnaseq_train_df = rnaseq_df.drop(rnaseq_test_df.index)"
   ]
  },
  {
   "cell_type": "markdown",
   "metadata": {},
   "source": [
    "## Initialize variables and hyperparameters for each model\n",
    "\n",
    "The hyperparameters provided below were determined through previous independent parameter searches"
   ]
  },
  {
   "cell_type": "code",
   "execution_count": 10,
   "metadata": {
    "collapsed": true,
    "deletable": true,
    "editable": true
   },
   "outputs": [],
   "source": [
    "# Set common hyper parameters\n",
    "original_dim = rnaseq_df.shape[1]\n",
    "latent_dim = 100\n",
    "beta = K.variable(0)\n",
    "epsilon_std = 1.0"
   ]
  },
  {
   "cell_type": "code",
   "execution_count": 11,
   "metadata": {
    "collapsed": true
   },
   "outputs": [],
   "source": [
    "# Model A (100 hidden layer size)\n",
    "model_a_latent_dim = 100\n",
    "model_a_batch_size = 100\n",
    "model_a_epochs = 100\n",
    "model_a_learning_rate = 0.001\n",
    "model_a_kappa = 1.0"
   ]
  },
  {
   "cell_type": "code",
   "execution_count": 12,
   "metadata": {
    "collapsed": true
   },
   "outputs": [],
   "source": [
    "# Model B (300 hidden layer size)\n",
    "model_b_latent_dim = 300\n",
    "model_b_batch_size = 50\n",
    "model_b_epochs = 100\n",
    "model_b_learning_rate = 0.0005\n",
    "model_b_kappa = 0.01"
   ]
  },
  {
   "cell_type": "markdown",
   "metadata": {},
   "source": [
    "## Create and process Tybalt Models\n",
    "\n",
    "### Model A Training and Output"
   ]
  },
  {
   "cell_type": "code",
   "execution_count": 13,
   "metadata": {
    "collapsed": false
   },
   "outputs": [],
   "source": [
    "model_a = Tybalt(original_dim=original_dim,\n",
    "                 hidden_dim=model_a_latent_dim,\n",
    "                 latent_dim=latent_dim,\n",
    "                 batch_size=model_a_batch_size,\n",
    "                 epochs=model_a_epochs,\n",
    "                 learning_rate=model_a_learning_rate,\n",
    "                 kappa=model_a_kappa,\n",
    "                 beta=beta)"
   ]
  },
  {
   "cell_type": "code",
   "execution_count": 14,
   "metadata": {
    "collapsed": false
   },
   "outputs": [
    {
     "name": "stdout",
     "output_type": "stream",
     "text": [
      "____________________________________________________________________________________________________\n",
      "Layer (type)                     Output Shape          Param #     Connected to                     \n",
      "====================================================================================================\n",
      "input_1 (InputLayer)             (None, 5000)          0                                            \n",
      "____________________________________________________________________________________________________\n",
      "dense_1 (Dense)                  (None, 100)           500100      input_1[0][0]                    \n",
      "____________________________________________________________________________________________________\n",
      "batch_normalization_1 (BatchNorm (None, 100)           400         dense_1[0][0]                    \n",
      "____________________________________________________________________________________________________\n",
      "activation_1 (Activation)        (None, 100)           0           batch_normalization_1[0][0]      \n",
      "____________________________________________________________________________________________________\n",
      "dense_2 (Dense)                  (None, 100)           10100       activation_1[0][0]               \n",
      "____________________________________________________________________________________________________\n",
      "dense_3 (Dense)                  (None, 100)           10100       activation_1[0][0]               \n",
      "____________________________________________________________________________________________________\n",
      "batch_normalization_2 (BatchNorm (None, 100)           400         dense_2[0][0]                    \n",
      "____________________________________________________________________________________________________\n",
      "batch_normalization_3 (BatchNorm (None, 100)           400         dense_3[0][0]                    \n",
      "____________________________________________________________________________________________________\n",
      "activation_2 (Activation)        (None, 100)           0           batch_normalization_2[0][0]      \n",
      "____________________________________________________________________________________________________\n",
      "activation_3 (Activation)        (None, 100)           0           batch_normalization_3[0][0]      \n",
      "____________________________________________________________________________________________________\n",
      "lambda_1 (Lambda)                (None, 100)           0           activation_2[0][0]               \n",
      "                                                                   activation_3[0][0]               \n",
      "____________________________________________________________________________________________________\n",
      "sequential_1 (Sequential)        (None, 5000)          515100      lambda_1[0][0]                   \n",
      "____________________________________________________________________________________________________\n",
      "custom_variational_layer_1 (Cust [(None, 5000), (None, 0           input_1[0][0]                    \n",
      "                                                                   sequential_1[1][0]               \n",
      "====================================================================================================\n",
      "Total params: 1,036,600\n",
      "Trainable params: 1,036,000\n",
      "Non-trainable params: 600\n",
      "____________________________________________________________________________________________________\n"
     ]
    },
    {
     "name": "stderr",
     "output_type": "stream",
     "text": [
      "/home/gway/anaconda3/envs/vae_pancancer/lib/python2.7/site-packages/ipykernel_launcher.py:52: UserWarning: Output \"custom_variational_layer_1\" missing from loss dictionary. We assume this was done on purpose, and we will not be expecting any data to be passed to \"custom_variational_layer_1\" during training.\n"
     ]
    }
   ],
   "source": [
    "# Compile Model A\n",
    "model_a.build_encoder_layer()\n",
    "model_a.build_decoder_layer()\n",
    "model_a.compile_vae()\n",
    "model_a.get_summary()"
   ]
  },
  {
   "cell_type": "code",
   "execution_count": 15,
   "metadata": {
    "collapsed": false
   },
   "outputs": [],
   "source": [
    "model_architecture_file = os.path.join('figures', 'twohidden_vae_architecture.png')\n",
    "model_a.visualize_architecture(model_architecture_file)"
   ]
  },
  {
   "cell_type": "code",
   "execution_count": 16,
   "metadata": {
    "collapsed": false
   },
   "outputs": [
    {
     "name": "stdout",
     "output_type": "stream",
     "text": [
      "Train on 9413 samples, validate on 1046 samples\n",
      "Epoch 1/100\n",
      "9413/9413 [==============================] - 1s - loss: 2957.9805 - val_loss: 2950.8238\n",
      "Epoch 2/100\n",
      "9413/9413 [==============================] - 1s - loss: 2797.2792 - val_loss: 2805.8403\n",
      "Epoch 3/100\n",
      "9413/9413 [==============================] - 1s - loss: 2763.9802 - val_loss: 2762.6554\n",
      "Epoch 4/100\n",
      "9413/9413 [==============================] - 1s - loss: 2746.9909 - val_loss: 2754.8216\n",
      "Epoch 5/100\n",
      "9413/9413 [==============================] - 1s - loss: 2735.1533 - val_loss: 2740.8744\n",
      "Epoch 6/100\n",
      "9413/9413 [==============================] - 1s - loss: 2725.5900 - val_loss: 2726.4276\n",
      "Epoch 7/100\n",
      "9413/9413 [==============================] - 1s - loss: 2718.8524 - val_loss: 2724.1144\n",
      "Epoch 8/100\n",
      "9413/9413 [==============================] - 1s - loss: 2713.2076 - val_loss: 2716.0569\n",
      "Epoch 9/100\n",
      "9413/9413 [==============================] - 1s - loss: 2708.3757 - val_loss: 2711.0041\n",
      "Epoch 10/100\n",
      "9413/9413 [==============================] - 1s - loss: 2705.0074 - val_loss: 2707.2964\n",
      "Epoch 11/100\n",
      "9413/9413 [==============================] - 1s - loss: 2701.6027 - val_loss: 2704.6021\n",
      "Epoch 12/100\n",
      "9413/9413 [==============================] - 1s - loss: 2698.6276 - val_loss: 2702.7460\n",
      "Epoch 13/100\n",
      "9413/9413 [==============================] - 1s - loss: 2696.0863 - val_loss: 2696.5519\n",
      "Epoch 14/100\n",
      "9413/9413 [==============================] - 1s - loss: 2693.8027 - val_loss: 2695.8062\n",
      "Epoch 15/100\n",
      "9413/9413 [==============================] - 1s - loss: 2691.9961 - val_loss: 2694.1369\n",
      "Epoch 16/100\n",
      "9413/9413 [==============================] - 1s - loss: 2690.0699 - val_loss: 2691.5633\n",
      "Epoch 17/100\n",
      "9413/9413 [==============================] - 1s - loss: 2688.6888 - val_loss: 2690.7129\n",
      "Epoch 18/100\n",
      "9413/9413 [==============================] - 1s - loss: 2686.7476 - val_loss: 2689.8341\n",
      "Epoch 19/100\n",
      "9413/9413 [==============================] - 1s - loss: 2685.3433 - val_loss: 2687.7475\n",
      "Epoch 20/100\n",
      "9413/9413 [==============================] - 1s - loss: 2684.3288 - val_loss: 2685.7977\n",
      "Epoch 21/100\n",
      "9413/9413 [==============================] - 1s - loss: 2682.7771 - val_loss: 2684.1735\n",
      "Epoch 22/100\n",
      "9413/9413 [==============================] - 1s - loss: 2681.6806 - val_loss: 2685.5071\n",
      "Epoch 23/100\n",
      "9413/9413 [==============================] - 1s - loss: 2680.3572 - val_loss: 2683.1425\n",
      "Epoch 24/100\n",
      "9413/9413 [==============================] - 1s - loss: 2679.9060 - val_loss: 2684.7259\n",
      "Epoch 25/100\n",
      "9413/9413 [==============================] - 1s - loss: 2678.5832 - val_loss: 2683.2860\n",
      "Epoch 26/100\n",
      "9413/9413 [==============================] - 1s - loss: 2677.8243 - val_loss: 2682.6056\n",
      "Epoch 27/100\n",
      "9413/9413 [==============================] - 1s - loss: 2676.6036 - val_loss: 2679.3471\n",
      "Epoch 28/100\n",
      "9413/9413 [==============================] - 1s - loss: 2675.5763 - val_loss: 2678.8165\n",
      "Epoch 29/100\n",
      "9413/9413 [==============================] - 1s - loss: 2675.3098 - val_loss: 2678.9385\n",
      "Epoch 30/100\n",
      "9413/9413 [==============================] - 1s - loss: 2674.3548 - val_loss: 2676.9404\n",
      "Epoch 31/100\n",
      "9413/9413 [==============================] - 1s - loss: 2673.4457 - val_loss: 2676.3542\n",
      "Epoch 32/100\n",
      "9413/9413 [==============================] - 1s - loss: 2672.9657 - val_loss: 2676.0678\n",
      "Epoch 33/100\n",
      "9413/9413 [==============================] - 1s - loss: 2672.1828 - val_loss: 2676.0129\n",
      "Epoch 34/100\n",
      "9413/9413 [==============================] - 1s - loss: 2671.5003 - val_loss: 2675.2568\n",
      "Epoch 35/100\n",
      "9413/9413 [==============================] - 1s - loss: 2671.0813 - val_loss: 2675.5867\n",
      "Epoch 36/100\n",
      "9413/9413 [==============================] - 1s - loss: 2670.7040 - val_loss: 2673.9413\n",
      "Epoch 37/100\n",
      "9413/9413 [==============================] - 1s - loss: 2669.7803 - val_loss: 2673.5747\n",
      "Epoch 38/100\n",
      "9413/9413 [==============================] - 1s - loss: 2669.2723 - val_loss: 2673.5660\n",
      "Epoch 39/100\n",
      "9413/9413 [==============================] - 1s - loss: 2669.0598 - val_loss: 2673.2244\n",
      "Epoch 40/100\n",
      "9413/9413 [==============================] - 1s - loss: 2668.3699 - val_loss: 2675.0969\n",
      "Epoch 41/100\n",
      "9413/9413 [==============================] - 1s - loss: 2668.1428 - val_loss: 2671.7506\n",
      "Epoch 42/100\n",
      "9413/9413 [==============================] - 1s - loss: 2667.3772 - val_loss: 2670.8989\n",
      "Epoch 43/100\n",
      "9413/9413 [==============================] - 1s - loss: 2667.0446 - val_loss: 2670.1845\n",
      "Epoch 44/100\n",
      "9413/9413 [==============================] - 1s - loss: 2666.6668 - val_loss: 2669.2487\n",
      "Epoch 45/100\n",
      "9413/9413 [==============================] - 1s - loss: 2666.3487 - val_loss: 2671.3058\n",
      "Epoch 46/100\n",
      "9413/9413 [==============================] - 1s - loss: 2665.8814 - val_loss: 2669.0087\n",
      "Epoch 47/100\n",
      "9413/9413 [==============================] - 1s - loss: 2665.5644 - val_loss: 2669.0123\n",
      "Epoch 48/100\n",
      "9413/9413 [==============================] - 1s - loss: 2665.0417 - val_loss: 2668.4945\n",
      "Epoch 49/100\n",
      "9413/9413 [==============================] - 1s - loss: 2664.9909 - val_loss: 2668.5532\n",
      "Epoch 50/100\n",
      "9413/9413 [==============================] - 1s - loss: 2664.8526 - val_loss: 2667.8724\n",
      "Epoch 51/100\n",
      "9413/9413 [==============================] - 1s - loss: 2664.0827 - val_loss: 2668.5496\n",
      "Epoch 52/100\n",
      "9413/9413 [==============================] - 1s - loss: 2664.0727 - val_loss: 2669.2049\n",
      "Epoch 53/100\n",
      "9413/9413 [==============================] - 1s - loss: 2663.9176 - val_loss: 2668.2468\n",
      "Epoch 54/100\n",
      "9413/9413 [==============================] - 1s - loss: 2663.1647 - val_loss: 2666.8234\n",
      "Epoch 55/100\n",
      "9413/9413 [==============================] - 1s - loss: 2662.9519 - val_loss: 2667.1615\n",
      "Epoch 56/100\n",
      "9413/9413 [==============================] - 1s - loss: 2662.8080 - val_loss: 2666.0201\n",
      "Epoch 57/100\n",
      "9413/9413 [==============================] - 1s - loss: 2662.3003 - val_loss: 2666.1678\n",
      "Epoch 58/100\n",
      "9413/9413 [==============================] - 1s - loss: 2661.6830 - val_loss: 2666.0583\n",
      "Epoch 59/100\n",
      "9413/9413 [==============================] - 1s - loss: 2662.1333 - val_loss: 2666.6102\n",
      "Epoch 60/100\n",
      "9413/9413 [==============================] - 1s - loss: 2661.8820 - val_loss: 2665.8327\n",
      "Epoch 61/100\n",
      "9413/9413 [==============================] - 1s - loss: 2661.2620 - val_loss: 2665.5685\n",
      "Epoch 62/100\n",
      "9413/9413 [==============================] - 1s - loss: 2660.8630 - val_loss: 2665.3976\n",
      "Epoch 63/100\n",
      "9413/9413 [==============================] - 1s - loss: 2660.9776 - val_loss: 2663.9852\n",
      "Epoch 64/100\n",
      "9413/9413 [==============================] - 1s - loss: 2660.5806 - val_loss: 2666.0981\n",
      "Epoch 65/100\n",
      "9413/9413 [==============================] - 1s - loss: 2660.9485 - val_loss: 2665.4582\n",
      "Epoch 66/100\n",
      "9413/9413 [==============================] - 1s - loss: 2659.9776 - val_loss: 2663.9994\n",
      "Epoch 67/100\n",
      "9413/9413 [==============================] - 1s - loss: 2660.1682 - val_loss: 2664.4093\n",
      "Epoch 68/100\n",
      "9413/9413 [==============================] - 1s - loss: 2659.8602 - val_loss: 2665.4123\n",
      "Epoch 69/100\n",
      "9413/9413 [==============================] - 1s - loss: 2659.7320 - val_loss: 2664.2095\n",
      "Epoch 70/100\n",
      "9413/9413 [==============================] - 1s - loss: 2659.3986 - val_loss: 2663.3767\n",
      "Epoch 71/100\n",
      "9413/9413 [==============================] - 1s - loss: 2659.4631 - val_loss: 2662.3696\n",
      "Epoch 72/100\n",
      "9413/9413 [==============================] - 1s - loss: 2658.8762 - val_loss: 2663.2382\n",
      "Epoch 73/100\n",
      "9413/9413 [==============================] - 1s - loss: 2658.8785 - val_loss: 2662.9145\n",
      "Epoch 74/100\n",
      "9413/9413 [==============================] - 1s - loss: 2658.6419 - val_loss: 2662.6420\n",
      "Epoch 75/100\n",
      "9413/9413 [==============================] - 1s - loss: 2658.0485 - val_loss: 2662.2743\n",
      "Epoch 76/100\n",
      "9413/9413 [==============================] - 1s - loss: 2657.9589 - val_loss: 2662.9043\n",
      "Epoch 77/100\n",
      "9413/9413 [==============================] - 1s - loss: 2657.9868 - val_loss: 2661.9093\n",
      "Epoch 78/100\n",
      "9413/9413 [==============================] - 1s - loss: 2657.9815 - val_loss: 2662.5459\n",
      "Epoch 79/100\n",
      "9413/9413 [==============================] - 1s - loss: 2658.0705 - val_loss: 2661.9623\n",
      "Epoch 80/100\n",
      "9413/9413 [==============================] - 1s - loss: 2657.8526 - val_loss: 2662.4854\n",
      "Epoch 81/100\n",
      "9413/9413 [==============================] - 1s - loss: 2657.5689 - val_loss: 2661.9085\n",
      "Epoch 82/100\n",
      "9413/9413 [==============================] - 1s - loss: 2657.6613 - val_loss: 2661.5535\n",
      "Epoch 83/100\n",
      "9413/9413 [==============================] - 1s - loss: 2657.1739 - val_loss: 2661.2428\n",
      "Epoch 84/100\n",
      "9413/9413 [==============================] - 1s - loss: 2657.2324 - val_loss: 2662.6703\n",
      "Epoch 85/100\n",
      "9413/9413 [==============================] - 1s - loss: 2656.8949 - val_loss: 2661.0031\n",
      "Epoch 86/100\n",
      "9413/9413 [==============================] - 1s - loss: 2656.6910 - val_loss: 2660.5960\n",
      "Epoch 87/100\n",
      "9413/9413 [==============================] - 1s - loss: 2656.8326 - val_loss: 2661.4506\n",
      "Epoch 88/100\n",
      "9413/9413 [==============================] - 1s - loss: 2656.7350 - val_loss: 2660.4537\n",
      "Epoch 89/100\n",
      "9413/9413 [==============================] - 1s - loss: 2656.3786 - val_loss: 2661.3030\n",
      "Epoch 90/100\n",
      "9413/9413 [==============================] - 1s - loss: 2656.1899 - val_loss: 2660.8402\n",
      "Epoch 91/100\n",
      "9413/9413 [==============================] - 1s - loss: 2656.3453 - val_loss: 2660.1869\n",
      "Epoch 92/100\n",
      "9413/9413 [==============================] - 1s - loss: 2655.8668 - val_loss: 2661.4266\n",
      "Epoch 93/100\n",
      "9413/9413 [==============================] - 1s - loss: 2655.7987 - val_loss: 2661.0794\n",
      "Epoch 94/100\n",
      "9413/9413 [==============================] - 1s - loss: 2655.6291 - val_loss: 2660.4709\n",
      "Epoch 95/100\n",
      "9413/9413 [==============================] - 1s - loss: 2655.5421 - val_loss: 2659.9211\n",
      "Epoch 96/100\n",
      "9413/9413 [==============================] - 1s - loss: 2655.5208 - val_loss: 2659.5040\n",
      "Epoch 97/100\n",
      "9413/9413 [==============================] - 1s - loss: 2655.2294 - val_loss: 2659.9641\n",
      "Epoch 98/100\n",
      "9413/9413 [==============================] - 1s - loss: 2655.2495 - val_loss: 2659.8988\n",
      "Epoch 99/100\n",
      "9413/9413 [==============================] - 1s - loss: 2655.1405 - val_loss: 2661.1199\n",
      "Epoch 100/100\n",
      "9413/9413 [==============================] - 1s - loss: 2655.0629 - val_loss: 2659.8728\n",
      "CPU times: user 2min 14s, sys: 6.39 s, total: 2min 20s\n",
      "Wall time: 1min 53s\n"
     ]
    }
   ],
   "source": [
    "%%time\n",
    "model_a.train_vae()"
   ]
  },
  {
   "cell_type": "code",
   "execution_count": 17,
   "metadata": {
    "collapsed": false
   },
   "outputs": [
    {
     "data": {
      "image/png": "[encoded data removed]",
      "text/plain": [
       "<matplotlib.figure.Figure at 0x7ff6227933d0>"
      ]
     },
     "metadata": {},
     "output_type": "display_data"
    }
   ],
   "source": [
    "model_a_training_file = os.path.join('figures', 'twohidden_100hidden_training.pdf')\n",
    "model_a.visualize_training(model_a_training_file)"
   ]
  },
  {
   "cell_type": "code",
   "execution_count": 18,
   "metadata": {
    "collapsed": false
   },
   "outputs": [
    {
     "data": {
      "text/html": [
       "<div>\n",
       "<style>\n",
       "    .dataframe thead tr:only-child th {\n",
       "        text-align: right;\n",
       "    }\n",
       "\n",
       "    .dataframe thead th {\n",
       "        text-align: left;\n",
       "    }\n",
       "\n",
       "    .dataframe tbody tr th {\n",
       "        vertical-align: top;\n",
       "    }\n",
       "</style>\n",
       "<table border=\"1\" class=\"dataframe\">\n",
       "  <thead>\n",
       "    <tr style=\"text-align: right;\">\n",
       "      <th></th>\n",
       "      <th>1</th>\n",
       "      <th>2</th>\n",
       "      <th>3</th>\n",
       "      <th>4</th>\n",
       "      <th>5</th>\n",
       "      <th>6</th>\n",
       "      <th>7</th>\n",
       "      <th>8</th>\n",
       "      <th>9</th>\n",
       "      <th>10</th>\n",
       "      <th>...</th>\n",
       "      <th>91</th>\n",
       "      <th>92</th>\n",
       "      <th>93</th>\n",
       "      <th>94</th>\n",
       "      <th>95</th>\n",
       "      <th>96</th>\n",
       "      <th>97</th>\n",
       "      <th>98</th>\n",
       "      <th>99</th>\n",
       "      <th>100</th>\n",
       "    </tr>\n",
       "  </thead>\n",
       "  <tbody>\n",
       "    <tr>\n",
       "      <th>TCGA-02-0047-01</th>\n",
       "      <td>1.804567</td>\n",
       "      <td>0.0</td>\n",
       "      <td>0.000000</td>\n",
       "      <td>0.000000</td>\n",
       "      <td>0.000000</td>\n",
       "      <td>0.0</td>\n",
       "      <td>0.0</td>\n",
       "      <td>2.082371</td>\n",
       "      <td>0.000000</td>\n",
       "      <td>0.0</td>\n",
       "      <td>...</td>\n",
       "      <td>5.628737</td>\n",
       "      <td>0.882983</td>\n",
       "      <td>0.0</td>\n",
       "      <td>0.000000</td>\n",
       "      <td>1.976136</td>\n",
       "      <td>1.912838</td>\n",
       "      <td>3.621609</td>\n",
       "      <td>0.000000</td>\n",
       "      <td>1.947124</td>\n",
       "      <td>1.840908</td>\n",
       "    </tr>\n",
       "    <tr>\n",
       "      <th>TCGA-02-0055-01</th>\n",
       "      <td>0.635178</td>\n",
       "      <td>0.0</td>\n",
       "      <td>1.591518</td>\n",
       "      <td>0.029515</td>\n",
       "      <td>1.855888</td>\n",
       "      <td>0.0</td>\n",
       "      <td>0.0</td>\n",
       "      <td>4.964176</td>\n",
       "      <td>1.741375</td>\n",
       "      <td>0.0</td>\n",
       "      <td>...</td>\n",
       "      <td>1.160538</td>\n",
       "      <td>0.000000</td>\n",
       "      <td>0.0</td>\n",
       "      <td>1.639663</td>\n",
       "      <td>0.000000</td>\n",
       "      <td>0.000000</td>\n",
       "      <td>4.046312</td>\n",
       "      <td>0.304179</td>\n",
       "      <td>6.382465</td>\n",
       "      <td>0.919127</td>\n",
       "    </tr>\n",
       "  </tbody>\n",
       "</table>\n",
       "<p>2 rows × 100 columns</p>\n",
       "</div>"
      ],
      "text/plain": [
       "                      1    2         3         4         5    6    7    \\\n",
       "TCGA-02-0047-01  1.804567  0.0  0.000000  0.000000  0.000000  0.0  0.0   \n",
       "TCGA-02-0055-01  0.635178  0.0  1.591518  0.029515  1.855888  0.0  0.0   \n",
       "\n",
       "                      8         9    10     ...          91        92   93   \\\n",
       "TCGA-02-0047-01  2.082371  0.000000  0.0    ...     5.628737  0.882983  0.0   \n",
       "TCGA-02-0055-01  4.964176  1.741375  0.0    ...     1.160538  0.000000  0.0   \n",
       "\n",
       "                      94        95        96        97        98        99   \\\n",
       "TCGA-02-0047-01  0.000000  1.976136  1.912838  3.621609  0.000000  1.947124   \n",
       "TCGA-02-0055-01  1.639663  0.000000  0.000000  4.046312  0.304179  6.382465   \n",
       "\n",
       "                      100  \n",
       "TCGA-02-0047-01  1.840908  \n",
       "TCGA-02-0055-01  0.919127  \n",
       "\n",
       "[2 rows x 100 columns]"
      ]
     },
     "execution_count": 18,
     "metadata": {},
     "output_type": "execute_result"
    }
   ],
   "source": [
    "model_a_compression = model_a.compress(rnaseq_df)\n",
    "model_a_file = os.path.join('data', 'encoded_rnaseq_twohidden_100model.tsv.gz')\n",
    "model_a_compression.to_csv(model_a_file, sep='\\t', compression='gzip')\n",
    "model_a_compression.head(2)"
   ]
  },
  {
   "cell_type": "code",
   "execution_count": 19,
   "metadata": {
    "collapsed": true
   },
   "outputs": [],
   "source": [
    "model_a_weights = model_a.get_decoder_weights()"
   ]
  },
  {
   "cell_type": "code",
   "execution_count": 20,
   "metadata": {
    "collapsed": true
   },
   "outputs": [],
   "source": [
    "encoder_model_a_file = os.path.join('models', 'encoder_twohidden100_vae.hdf5')\n",
    "decoder_model_a_file = os.path.join('models', 'decoder_twohidden100_vae.hdf5')\n",
    "model_a.save_models(encoder_model_a_file, decoder_model_a_file)"
   ]
  },
  {
   "cell_type": "markdown",
   "metadata": {},
   "source": [
    "### Model B Training and Output"
   ]
  },
  {
   "cell_type": "code",
   "execution_count": 21,
   "metadata": {
    "collapsed": true
   },
   "outputs": [],
   "source": [
    "model_b = Tybalt(original_dim=original_dim,\n",
    "                 hidden_dim=model_b_latent_dim,\n",
    "                 latent_dim=latent_dim,\n",
    "                 batch_size=model_b_batch_size,\n",
    "                 epochs=model_b_epochs,\n",
    "                 learning_rate=model_b_learning_rate,\n",
    "                 kappa=model_b_kappa,\n",
    "                 beta=beta)"
   ]
  },
  {
   "cell_type": "code",
   "execution_count": 22,
   "metadata": {
    "collapsed": false
   },
   "outputs": [
    {
     "name": "stdout",
     "output_type": "stream",
     "text": [
      "____________________________________________________________________________________________________\n",
      "Layer (type)                     Output Shape          Param #     Connected to                     \n",
      "====================================================================================================\n",
      "input_3 (InputLayer)             (None, 5000)          0                                            \n",
      "____________________________________________________________________________________________________\n",
      "dense_6 (Dense)                  (None, 300)           1500300     input_3[0][0]                    \n",
      "____________________________________________________________________________________________________\n",
      "batch_normalization_4 (BatchNorm (None, 300)           1200        dense_6[0][0]                    \n",
      "____________________________________________________________________________________________________\n",
      "activation_4 (Activation)        (None, 300)           0           batch_normalization_4[0][0]      \n",
      "____________________________________________________________________________________________________\n",
      "dense_7 (Dense)                  (None, 100)           30100       activation_4[0][0]               \n",
      "____________________________________________________________________________________________________\n",
      "dense_8 (Dense)                  (None, 100)           30100       activation_4[0][0]               \n",
      "____________________________________________________________________________________________________\n",
      "batch_normalization_5 (BatchNorm (None, 100)           400         dense_7[0][0]                    \n",
      "____________________________________________________________________________________________________\n",
      "batch_normalization_6 (BatchNorm (None, 100)           400         dense_8[0][0]                    \n",
      "____________________________________________________________________________________________________\n",
      "activation_5 (Activation)        (None, 100)           0           batch_normalization_5[0][0]      \n",
      "____________________________________________________________________________________________________\n",
      "activation_6 (Activation)        (None, 100)           0           batch_normalization_6[0][0]      \n",
      "____________________________________________________________________________________________________\n",
      "lambda_2 (Lambda)                (None, 100)           0           activation_5[0][0]               \n",
      "                                                                   activation_6[0][0]               \n",
      "____________________________________________________________________________________________________\n",
      "sequential_2 (Sequential)        (None, 5000)          1535300     lambda_2[0][0]                   \n",
      "____________________________________________________________________________________________________\n",
      "custom_variational_layer_2 (Cust [(None, 5000), (None, 0           input_3[0][0]                    \n",
      "                                                                   sequential_2[1][0]               \n",
      "====================================================================================================\n",
      "Total params: 3,097,800\n",
      "Trainable params: 3,096,800\n",
      "Non-trainable params: 1,000\n",
      "____________________________________________________________________________________________________\n"
     ]
    },
    {
     "name": "stderr",
     "output_type": "stream",
     "text": [
      "/home/gway/anaconda3/envs/vae_pancancer/lib/python2.7/site-packages/ipykernel_launcher.py:52: UserWarning: Output \"custom_variational_layer_2\" missing from loss dictionary. We assume this was done on purpose, and we will not be expecting any data to be passed to \"custom_variational_layer_2\" during training.\n"
     ]
    }
   ],
   "source": [
    "# Compile Model B\n",
    "model_b.build_encoder_layer()\n",
    "model_b.build_decoder_layer()\n",
    "model_b.compile_vae()\n",
    "model_b.get_summary()"
   ]
  },
  {
   "cell_type": "code",
   "execution_count": 23,
   "metadata": {
    "collapsed": false
   },
   "outputs": [
    {
     "name": "stdout",
     "output_type": "stream",
     "text": [
      "Train on 9413 samples, validate on 1046 samples\n",
      "Epoch 1/100\n",
      "9413/9413 [==============================] - 2s - loss: 2976.0963 - val_loss: 2909.1827\n",
      "Epoch 2/100\n",
      "9413/9413 [==============================] - 1s - loss: 2859.1518 - val_loss: 2852.9602\n",
      "Epoch 3/100\n",
      "9413/9413 [==============================] - 1s - loss: 2835.7822 - val_loss: 2827.6078\n",
      "Epoch 4/100\n",
      "9413/9413 [==============================] - 1s - loss: 2822.8338 - val_loss: 2822.6562\n",
      "Epoch 5/100\n",
      "9413/9413 [==============================] - 1s - loss: 2814.4313 - val_loss: 2811.0809\n",
      "Epoch 6/100\n",
      "9413/9413 [==============================] - 1s - loss: 2807.8876 - val_loss: 2807.1923\n",
      "Epoch 7/100\n",
      "9413/9413 [==============================] - 1s - loss: 2803.3193 - val_loss: 2801.9632\n",
      "Epoch 8/100\n",
      "9413/9413 [==============================] - 1s - loss: 2800.3531 - val_loss: 2801.8731\n",
      "Epoch 9/100\n",
      "9413/9413 [==============================] - 1s - loss: 2796.8033 - val_loss: 2795.0505\n",
      "Epoch 10/100\n",
      "9413/9413 [==============================] - 1s - loss: 2793.8498 - val_loss: 2792.7511\n",
      "Epoch 11/100\n",
      "9413/9413 [==============================] - 1s - loss: 2792.0580 - val_loss: 2791.4050\n",
      "Epoch 12/100\n",
      "9413/9413 [==============================] - 1s - loss: 2789.9623 - val_loss: 2790.5441\n",
      "Epoch 13/100\n",
      "9413/9413 [==============================] - 1s - loss: 2788.6482 - val_loss: 2786.7315\n",
      "Epoch 14/100\n",
      "9413/9413 [==============================] - 1s - loss: 2787.1517 - val_loss: 2786.8334\n",
      "Epoch 15/100\n",
      "9413/9413 [==============================] - 1s - loss: 2785.5486 - val_loss: 2782.8495\n",
      "Epoch 16/100\n",
      "9413/9413 [==============================] - 1s - loss: 2784.6404 - val_loss: 2783.8522\n",
      "Epoch 17/100\n",
      "9413/9413 [==============================] - 1s - loss: 2782.7719 - val_loss: 2783.0421\n",
      "Epoch 18/100\n",
      "9413/9413 [==============================] - 1s - loss: 2781.9863 - val_loss: 2781.9717\n",
      "Epoch 19/100\n",
      "9413/9413 [==============================] - 1s - loss: 2781.1133 - val_loss: 2779.6485\n",
      "Epoch 20/100\n",
      "9413/9413 [==============================] - 2s - loss: 2780.4245 - val_loss: 2780.3831\n",
      "Epoch 21/100\n",
      "9413/9413 [==============================] - 2s - loss: 2779.1302 - val_loss: 2778.6101\n",
      "Epoch 22/100\n",
      "9413/9413 [==============================] - 2s - loss: 2778.6055 - val_loss: 2777.9476\n",
      "Epoch 23/100\n",
      "9413/9413 [==============================] - 2s - loss: 2777.6820 - val_loss: 2777.0861\n",
      "Epoch 24/100\n",
      "9413/9413 [==============================] - 2s - loss: 2775.9326 - val_loss: 2775.4428\n",
      "Epoch 25/100\n",
      "9413/9413 [==============================] - 2s - loss: 2776.2956 - val_loss: 2776.0726\n",
      "Epoch 26/100\n",
      "9413/9413 [==============================] - 2s - loss: 2775.1535 - val_loss: 2775.9854\n",
      "Epoch 27/100\n",
      "9413/9413 [==============================] - 2s - loss: 2775.5803 - val_loss: 2775.4990\n",
      "Epoch 28/100\n",
      "9413/9413 [==============================] - 2s - loss: 2773.7269 - val_loss: 2774.2552\n",
      "Epoch 29/100\n",
      "9413/9413 [==============================] - 2s - loss: 2773.2844 - val_loss: 2773.6002\n",
      "Epoch 30/100\n",
      "9413/9413 [==============================] - 2s - loss: 2773.0693 - val_loss: 2771.3928\n",
      "Epoch 31/100\n",
      "9413/9413 [==============================] - 2s - loss: 2772.3376 - val_loss: 2771.8702\n",
      "Epoch 32/100\n",
      "9413/9413 [==============================] - 2s - loss: 2772.1800 - val_loss: 2772.0828\n",
      "Epoch 33/100\n",
      "9413/9413 [==============================] - 2s - loss: 2771.9286 - val_loss: 2770.8244\n",
      "Epoch 34/100\n",
      "9413/9413 [==============================] - 2s - loss: 2771.4918 - val_loss: 2769.4966\n",
      "Epoch 35/100\n",
      "9413/9413 [==============================] - 1s - loss: 2770.4796 - val_loss: 2770.5737\n",
      "Epoch 36/100\n",
      "9413/9413 [==============================] - 1s - loss: 2770.3200 - val_loss: 2769.5569\n",
      "Epoch 37/100\n",
      "9413/9413 [==============================] - 1s - loss: 2769.6836 - val_loss: 2769.1391\n",
      "Epoch 38/100\n",
      "9413/9413 [==============================] - 1s - loss: 2769.3641 - val_loss: 2767.8874\n",
      "Epoch 39/100\n",
      "9413/9413 [==============================] - 1s - loss: 2768.3753 - val_loss: 2769.2286\n",
      "Epoch 40/100\n",
      "9413/9413 [==============================] - 1s - loss: 2768.1522 - val_loss: 2768.8916\n",
      "Epoch 41/100\n",
      "9413/9413 [==============================] - 1s - loss: 2767.7560 - val_loss: 2767.6186\n",
      "Epoch 42/100\n",
      "9413/9413 [==============================] - 1s - loss: 2767.4286 - val_loss: 2766.8226\n",
      "Epoch 43/100\n",
      "9413/9413 [==============================] - 1s - loss: 2766.9297 - val_loss: 2766.3980\n",
      "Epoch 44/100\n",
      "9413/9413 [==============================] - 1s - loss: 2766.3725 - val_loss: 2767.5063\n",
      "Epoch 45/100\n",
      "9413/9413 [==============================] - 1s - loss: 2766.4936 - val_loss: 2766.4490\n",
      "Epoch 46/100\n",
      "9413/9413 [==============================] - 1s - loss: 2766.0341 - val_loss: 2766.3559\n",
      "Epoch 47/100\n",
      "9413/9413 [==============================] - 1s - loss: 2765.7350 - val_loss: 2764.8949\n",
      "Epoch 48/100\n",
      "9413/9413 [==============================] - 1s - loss: 2765.1965 - val_loss: 2766.1944\n",
      "Epoch 49/100\n",
      "9413/9413 [==============================] - 1s - loss: 2765.0791 - val_loss: 2766.0875\n",
      "Epoch 50/100\n",
      "9413/9413 [==============================] - 1s - loss: 2764.7780 - val_loss: 2763.8616\n",
      "Epoch 51/100\n",
      "9413/9413 [==============================] - 1s - loss: 2764.0595 - val_loss: 2763.8204\n",
      "Epoch 52/100\n",
      "9413/9413 [==============================] - 1s - loss: 2763.9017 - val_loss: 2765.7488\n",
      "Epoch 53/100\n",
      "9413/9413 [==============================] - 1s - loss: 2764.2699 - val_loss: 2764.0976\n",
      "Epoch 54/100\n",
      "9413/9413 [==============================] - 1s - loss: 2763.4282 - val_loss: 2763.4282\n",
      "Epoch 55/100\n",
      "9413/9413 [==============================] - 1s - loss: 2763.1986 - val_loss: 2764.0629\n",
      "Epoch 56/100\n",
      "9413/9413 [==============================] - 1s - loss: 2763.2241 - val_loss: 2763.3203\n",
      "Epoch 57/100\n",
      "9413/9413 [==============================] - 1s - loss: 2762.3466 - val_loss: 2762.2408\n",
      "Epoch 58/100\n",
      "9413/9413 [==============================] - 1s - loss: 2763.0907 - val_loss: 2763.5929\n",
      "Epoch 59/100\n",
      "9413/9413 [==============================] - 1s - loss: 2761.6403 - val_loss: 2762.6243\n",
      "Epoch 60/100\n",
      "9413/9413 [==============================] - 1s - loss: 2762.1639 - val_loss: 2763.6944\n",
      "Epoch 61/100\n",
      "9413/9413 [==============================] - 1s - loss: 2761.9182 - val_loss: 2763.8620\n",
      "Epoch 62/100\n",
      "9413/9413 [==============================] - 1s - loss: 2761.4355 - val_loss: 2761.3378\n",
      "Epoch 63/100\n",
      "9413/9413 [==============================] - 1s - loss: 2760.8157 - val_loss: 2761.7237\n",
      "Epoch 64/100\n",
      "9413/9413 [==============================] - 1s - loss: 2761.3420 - val_loss: 2760.0974\n",
      "Epoch 65/100\n",
      "9413/9413 [==============================] - 1s - loss: 2760.7411 - val_loss: 2763.7263\n",
      "Epoch 66/100\n",
      "9413/9413 [==============================] - 1s - loss: 2760.1829 - val_loss: 2758.5567\n",
      "Epoch 67/100\n",
      "9413/9413 [==============================] - 1s - loss: 2759.7191 - val_loss: 2761.6695\n",
      "Epoch 68/100\n",
      "9413/9413 [==============================] - 1s - loss: 2760.0463 - val_loss: 2762.2958\n",
      "Epoch 69/100\n",
      "9413/9413 [==============================] - 1s - loss: 2759.4546 - val_loss: 2758.3040\n",
      "Epoch 70/100\n",
      "9413/9413 [==============================] - 1s - loss: 2759.8041 - val_loss: 2759.9196\n",
      "Epoch 71/100\n",
      "9413/9413 [==============================] - 1s - loss: 2760.5095 - val_loss: 2760.8132\n",
      "Epoch 72/100\n",
      "9413/9413 [==============================] - 1s - loss: 2759.6557 - val_loss: 2758.9026\n",
      "Epoch 73/100\n",
      "9413/9413 [==============================] - 1s - loss: 2759.4091 - val_loss: 2758.6991\n",
      "Epoch 74/100\n",
      "9413/9413 [==============================] - 1s - loss: 2759.1058 - val_loss: 2760.5453\n",
      "Epoch 75/100\n",
      "9413/9413 [==============================] - 2s - loss: 2758.9385 - val_loss: 2758.7857\n",
      "Epoch 76/100\n",
      "9413/9413 [==============================] - 1s - loss: 2758.2842 - val_loss: 2760.3362\n",
      "Epoch 77/100\n",
      "9413/9413 [==============================] - 1s - loss: 2758.7999 - val_loss: 2758.8773\n",
      "Epoch 78/100\n",
      "9413/9413 [==============================] - 1s - loss: 2758.6116 - val_loss: 2758.2635\n",
      "Epoch 79/100\n",
      "9413/9413 [==============================] - 1s - loss: 2757.9021 - val_loss: 2759.7957\n",
      "Epoch 80/100\n",
      "9413/9413 [==============================] - 1s - loss: 2757.8185 - val_loss: 2758.8604\n",
      "Epoch 81/100\n",
      "9413/9413 [==============================] - 1s - loss: 2758.2601 - val_loss: 2758.0821\n",
      "Epoch 82/100\n",
      "9413/9413 [==============================] - 1s - loss: 2757.5211 - val_loss: 2759.0933\n",
      "Epoch 83/100\n",
      "9413/9413 [==============================] - 1s - loss: 2757.1283 - val_loss: 2757.9790\n",
      "Epoch 84/100\n",
      "9413/9413 [==============================] - 1s - loss: 2757.3255 - val_loss: 2759.0767\n",
      "Epoch 85/100\n",
      "9413/9413 [==============================] - 1s - loss: 2756.2826 - val_loss: 2756.8941\n",
      "Epoch 86/100\n",
      "9413/9413 [==============================] - 2s - loss: 2756.2938 - val_loss: 2759.5235\n",
      "Epoch 87/100\n",
      "9413/9413 [==============================] - 2s - loss: 2756.8478 - val_loss: 2758.8628\n",
      "Epoch 88/100\n",
      "9413/9413 [==============================] - 1s - loss: 2756.7957 - val_loss: 2757.2729\n",
      "Epoch 89/100\n",
      "9413/9413 [==============================] - 1s - loss: 2756.4703 - val_loss: 2757.6702\n",
      "Epoch 90/100\n",
      "9413/9413 [==============================] - 1s - loss: 2756.3907 - val_loss: 2756.1392\n",
      "Epoch 91/100\n",
      "9413/9413 [==============================] - 1s - loss: 2756.1861 - val_loss: 2757.5099\n",
      "Epoch 92/100\n",
      "9413/9413 [==============================] - 1s - loss: 2756.2406 - val_loss: 2756.3702\n",
      "Epoch 93/100\n",
      "9413/9413 [==============================] - 1s - loss: 2755.4179 - val_loss: 2758.0628\n",
      "Epoch 94/100\n",
      "9413/9413 [==============================] - 1s - loss: 2755.9896 - val_loss: 2756.5850\n",
      "Epoch 95/100\n",
      "9413/9413 [==============================] - 1s - loss: 2755.6997 - val_loss: 2757.0054\n",
      "Epoch 96/100\n",
      "9413/9413 [==============================] - 1s - loss: 2754.9688 - val_loss: 2757.4058\n",
      "Epoch 97/100\n",
      "9413/9413 [==============================] - 1s - loss: 2755.1529 - val_loss: 2757.3296\n",
      "Epoch 98/100\n",
      "9413/9413 [==============================] - 1s - loss: 2754.5996 - val_loss: 2756.8905\n",
      "Epoch 99/100\n",
      "9413/9413 [==============================] - 1s - loss: 2755.0214 - val_loss: 2755.1875\n",
      "Epoch 100/100\n",
      "9413/9413 [==============================] - 1s - loss: 2754.6306 - val_loss: 2755.2204\n",
      "CPU times: user 3min 51s, sys: 16.1 s, total: 4min 7s\n",
      "Wall time: 3min 12s\n"
     ]
    }
   ],
   "source": [
    "%%time\n",
    "model_b.train_vae()"
   ]
  },
  {
   "cell_type": "code",
   "execution_count": 24,
   "metadata": {
    "collapsed": false
   },
   "outputs": [
    {
     "data": {
      "image/png": "[encoded data removed]",
      "text/plain": [
       "<matplotlib.figure.Figure at 0x7ff584b37e50>"
      ]
     },
     "metadata": {},
     "output_type": "display_data"
    }
   ],
   "source": [
    "model_b_training_file = os.path.join('figures', 'twohidden_300hidden_training.pdf')\n",
    "model_b.visualize_training(model_b_training_file)"
   ]
  },
  {
   "cell_type": "code",
   "execution_count": 25,
   "metadata": {
    "collapsed": false
   },
   "outputs": [
    {
     "data": {
      "text/html": [
       "<div>\n",
       "<style>\n",
       "    .dataframe thead tr:only-child th {\n",
       "        text-align: right;\n",
       "    }\n",
       "\n",
       "    .dataframe thead th {\n",
       "        text-align: left;\n",
       "    }\n",
       "\n",
       "    .dataframe tbody tr th {\n",
       "        vertical-align: top;\n",
       "    }\n",
       "</style>\n",
       "<table border=\"1\" class=\"dataframe\">\n",
       "  <thead>\n",
       "    <tr style=\"text-align: right;\">\n",
       "      <th></th>\n",
       "      <th>1</th>\n",
       "      <th>2</th>\n",
       "      <th>3</th>\n",
       "      <th>4</th>\n",
       "      <th>5</th>\n",
       "      <th>6</th>\n",
       "      <th>7</th>\n",
       "      <th>8</th>\n",
       "      <th>9</th>\n",
       "      <th>10</th>\n",
       "      <th>...</th>\n",
       "      <th>91</th>\n",
       "      <th>92</th>\n",
       "      <th>93</th>\n",
       "      <th>94</th>\n",
       "      <th>95</th>\n",
       "      <th>96</th>\n",
       "      <th>97</th>\n",
       "      <th>98</th>\n",
       "      <th>99</th>\n",
       "      <th>100</th>\n",
       "    </tr>\n",
       "  </thead>\n",
       "  <tbody>\n",
       "    <tr>\n",
       "      <th>TCGA-02-0047-01</th>\n",
       "      <td>0.000000</td>\n",
       "      <td>0.0</td>\n",
       "      <td>1.250155</td>\n",
       "      <td>0.0</td>\n",
       "      <td>0.0</td>\n",
       "      <td>0.0</td>\n",
       "      <td>0.0</td>\n",
       "      <td>0.0</td>\n",
       "      <td>0.0</td>\n",
       "      <td>0.0</td>\n",
       "      <td>...</td>\n",
       "      <td>0.0</td>\n",
       "      <td>0.95250</td>\n",
       "      <td>0.0</td>\n",
       "      <td>0.0</td>\n",
       "      <td>0.0</td>\n",
       "      <td>0.0</td>\n",
       "      <td>0.0</td>\n",
       "      <td>0.0</td>\n",
       "      <td>0.0</td>\n",
       "      <td>0.0</td>\n",
       "    </tr>\n",
       "    <tr>\n",
       "      <th>TCGA-02-0055-01</th>\n",
       "      <td>0.556497</td>\n",
       "      <td>0.0</td>\n",
       "      <td>0.056864</td>\n",
       "      <td>0.0</td>\n",
       "      <td>0.0</td>\n",
       "      <td>0.0</td>\n",
       "      <td>0.0</td>\n",
       "      <td>0.0</td>\n",
       "      <td>0.0</td>\n",
       "      <td>0.0</td>\n",
       "      <td>...</td>\n",
       "      <td>0.0</td>\n",
       "      <td>0.13956</td>\n",
       "      <td>0.0</td>\n",
       "      <td>0.0</td>\n",
       "      <td>0.0</td>\n",
       "      <td>0.0</td>\n",
       "      <td>0.0</td>\n",
       "      <td>0.0</td>\n",
       "      <td>0.0</td>\n",
       "      <td>0.0</td>\n",
       "    </tr>\n",
       "  </tbody>\n",
       "</table>\n",
       "<p>2 rows × 100 columns</p>\n",
       "</div>"
      ],
      "text/plain": [
       "                      1    2         3    4    5    6    7    8    9    10   \\\n",
       "TCGA-02-0047-01  0.000000  0.0  1.250155  0.0  0.0  0.0  0.0  0.0  0.0  0.0   \n",
       "TCGA-02-0055-01  0.556497  0.0  0.056864  0.0  0.0  0.0  0.0  0.0  0.0  0.0   \n",
       "\n",
       "                ...   91       92   93   94   95   96   97   98   99   100  \n",
       "TCGA-02-0047-01 ...   0.0  0.95250  0.0  0.0  0.0  0.0  0.0  0.0  0.0  0.0  \n",
       "TCGA-02-0055-01 ...   0.0  0.13956  0.0  0.0  0.0  0.0  0.0  0.0  0.0  0.0  \n",
       "\n",
       "[2 rows x 100 columns]"
      ]
     },
     "execution_count": 25,
     "metadata": {},
     "output_type": "execute_result"
    }
   ],
   "source": [
    "model_b_compression = model_b.compress(rnaseq_df)\n",
    "model_b_file = os.path.join('data', 'encoded_rnaseq_twohidden_300model.tsv.gz')\n",
    "model_b_compression.to_csv(model_b_file, sep='\\t', compression='gzip')\n",
    "model_b_compression.head(2)"
   ]
  },
  {
   "cell_type": "code",
   "execution_count": 26,
   "metadata": {
    "collapsed": true
   },
   "outputs": [],
   "source": [
    "model_b_weights = model_b.get_decoder_weights()"
   ]
  },
  {
   "cell_type": "code",
   "execution_count": 27,
   "metadata": {
    "collapsed": true
   },
   "outputs": [],
   "source": [
    "encoder_model_b_file = os.path.join('models', 'encoder_twohidden300_vae.hdf5')\n",
    "decoder_model_b_file = os.path.join('models', 'decoder_twohidden300_vae.hdf5')\n",
    "model_b.save_models(encoder_model_b_file, decoder_model_b_file)"
   ]
  },
  {
   "cell_type": "markdown",
   "metadata": {},
   "source": [
    "## Extract the abstract connections between samples and genes\n",
    "\n",
    "In a two layer model, there are two sets of learned weights between samples and latent features and from latent features to reconstructed samples. The first set connects the genes to the hidden layer and the second set connects the hidden layer to the latent feature activation. The two layers can be connected by matrix multiplication, which provides a direct connection from gene to latent feature. It is likely that the two layers learn different biological features, but the immediate connection is easiest to currently analyze and intuit."
   ]
  },
  {
   "cell_type": "code",
   "execution_count": 28,
   "metadata": {
    "collapsed": true
   },
   "outputs": [],
   "source": [
    "def extract_weights(weights, weight_file):\n",
    "    # Multiply hidden layers together to obtain a single representation of gene weights\n",
    "    intermediate_weight_df = pd.DataFrame(weights[1][0])\n",
    "    hidden_weight_df = pd.DataFrame(weights[1][2])\n",
    "    abstracted_weight_df = intermediate_weight_df.dot(hidden_weight_df)\n",
    "\n",
    "    abstracted_weight_df.index = range(1, 101)\n",
    "    abstracted_weight_df.columns = rnaseq_df.columns\n",
    "    abstracted_weight_df.to_csv(weight_file, sep='\\t')"
   ]
  },
  {
   "cell_type": "code",
   "execution_count": 29,
   "metadata": {
    "collapsed": false
   },
   "outputs": [],
   "source": [
    "# Model A\n",
    "model_a_weight_file = os.path.join('data', 'tybalt_gene_weights_twohidden100.tsv')\n",
    "extract_weights(model_a_weights, model_a_weight_file)"
   ]
  },
  {
   "cell_type": "code",
   "execution_count": 30,
   "metadata": {
    "collapsed": false
   },
   "outputs": [],
   "source": [
    "# Model B\n",
    "model_b_weight_file = os.path.join('data', 'tybalt_gene_weights_twohidden300.tsv')\n",
    "extract_weights(model_b_weights, model_b_weight_file)"
   ]
  }
 ],
 "metadata": {
  "kernelspec": {
   "display_name": "Python (tybalt)",
   "language": "python",
   "name": "vae_pancancer"
  },
  "language_info": {
   "codemirror_mode": {
    "name": "ipython",
    "version": 2
   },
   "file_extension": ".py",
   "mimetype": "text/x-python",
   "name": "python",
   "nbconvert_exporter": "python",
   "pygments_lexer": "ipython2",
   "version": "2.7.13"
  }
 },
 "nbformat": 4,
 "nbformat_minor": 1
}
